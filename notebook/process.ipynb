{
 "cells": [
  {
   "cell_type": "code",
   "execution_count": 1,
   "metadata": {},
   "outputs": [],
   "source": [
    "import os\n",
    "import pandas as pd\n",
    "\n",
    "REPO_DIR = os.path.dirname(os.path.abspath(''))\n",
    "DATA_DIR = os.path.join(REPO_DIR, \"data/\")\n",
    "\n",
    "#FILE_PATH = os.path.join(DATA_DIR, \"articles/bitcoin.csv\")\n",
    "FILE_PATH = os.path.join(DATA_DIR, \"articles/back.txt\")\n",
    "HISTORY_PATH = os.path.join(DATA_DIR, \"articles/history.csv\")"
   ]
  },
  {
   "cell_type": "markdown",
   "metadata": {},
   "source": [
    "# Read dataset"
   ]
  },
  {
   "cell_type": "code",
   "execution_count": 2,
   "metadata": {},
   "outputs": [
    {
     "name": "stderr",
     "output_type": "stream",
     "text": [
      "b'Skipping line 387: expected 5 fields, saw 6\\nSkipping line 4827: expected 5 fields, saw 6\\n'\n"
     ]
    },
    {
     "data": {
      "text/html": [
       "<div>\n",
       "<style scoped>\n",
       "    .dataframe tbody tr th:only-of-type {\n",
       "        vertical-align: middle;\n",
       "    }\n",
       "\n",
       "    .dataframe tbody tr th {\n",
       "        vertical-align: top;\n",
       "    }\n",
       "\n",
       "    .dataframe thead th {\n",
       "        text-align: right;\n",
       "    }\n",
       "</style>\n",
       "<table border=\"1\" class=\"dataframe\">\n",
       "  <thead>\n",
       "    <tr style=\"text-align: right;\">\n",
       "      <th></th>\n",
       "      <th>Source_date</th>\n",
       "      <th>hash</th>\n",
       "      <th>news</th>\n",
       "      <th>journal</th>\n",
       "      <th>date</th>\n",
       "    </tr>\n",
       "  </thead>\n",
       "  <tbody>\n",
       "    <tr>\n",
       "      <th>0</th>\n",
       "      <td>09/30/2021, 20:54:18</td>\n",
       "      <td>fc7a05bddeb9dc122b2cc81d4a3681f5</td>\n",
       "      <td>Buy Solana (SOL) Now, or Wait for a Dip on Alt...</td>\n",
       "      <td>By InsideBitcoins</td>\n",
       "      <td>2021-09-30</td>\n",
       "    </tr>\n",
       "    <tr>\n",
       "      <th>1</th>\n",
       "      <td>09/30/2021, 20:54:18</td>\n",
       "      <td>4071dc6d77f81e7e76294d69a0bd0b12</td>\n",
       "      <td>Bitcoin (BTC) Price Prediction: BTC/USD Faces ...</td>\n",
       "      <td>By InsideBitcoins</td>\n",
       "      <td>2021-09-30</td>\n",
       "    </tr>\n",
       "    <tr>\n",
       "      <th>2</th>\n",
       "      <td>09/30/2021, 20:54:18</td>\n",
       "      <td>f584141957ed385e1343c6ab08ba6f2e</td>\n",
       "      <td>ADAX Pro AMA Takeaway. Launching As Soon As Q4</td>\n",
       "      <td>By DailyCoin</td>\n",
       "      <td>2021-09-30</td>\n",
       "    </tr>\n",
       "    <tr>\n",
       "      <th>3</th>\n",
       "      <td>09/30/2021, 20:54:18</td>\n",
       "      <td>5c2bf946cf892db1cc258681e7372126</td>\n",
       "      <td>Bitcoin Forecast For 2022 From Financial Insti...</td>\n",
       "      <td>By DailyCoin</td>\n",
       "      <td>2021-09-30</td>\n",
       "    </tr>\n",
       "    <tr>\n",
       "      <th>4</th>\n",
       "      <td>09/30/2021, 20:54:18</td>\n",
       "      <td>302914b28fdfa98c83e9c190e0156b23</td>\n",
       "      <td>Crypto: Decentralized finance protocol Compoun...</td>\n",
       "      <td>By MarketWatch</td>\n",
       "      <td>2021-09-30</td>\n",
       "    </tr>\n",
       "    <tr>\n",
       "      <th>...</th>\n",
       "      <td>...</td>\n",
       "      <td>...</td>\n",
       "      <td>...</td>\n",
       "      <td>...</td>\n",
       "      <td>...</td>\n",
       "    </tr>\n",
       "    <tr>\n",
       "      <th>5531</th>\n",
       "      <td>09/30/2021, 21:32:47</td>\n",
       "      <td>bbf292eaa0a4b086c786287e601664cc</td>\n",
       "      <td>Hut 8 Buys 11,090 New Bitcoin Mining Rigs For ...</td>\n",
       "      <td>By Bitcoin Magazine</td>\n",
       "      <td>2021-07-01</td>\n",
       "    </tr>\n",
       "    <tr>\n",
       "      <th>5532</th>\n",
       "      <td>09/30/2021, 21:32:47</td>\n",
       "      <td>1a63542f6c6ab53ccb97c67653df92ef</td>\n",
       "      <td>Think Bitcoin is Due for a Rally? Consider The...</td>\n",
       "      <td>By StockNews</td>\n",
       "      <td>2021-07-01</td>\n",
       "    </tr>\n",
       "    <tr>\n",
       "      <th>5533</th>\n",
       "      <td>09/30/2021, 21:32:47</td>\n",
       "      <td>23c632e95220a6bc3f09b584f150a488</td>\n",
       "      <td>Mexico Rebukes Pliego’s Calls for BTC Transact...</td>\n",
       "      <td>By Live Bitcoin News</td>\n",
       "      <td>2021-07-01</td>\n",
       "    </tr>\n",
       "    <tr>\n",
       "      <th>5534</th>\n",
       "      <td>09/30/2021, 21:32:47</td>\n",
       "      <td>1a63542f6c6ab53ccb97c67653df92ef</td>\n",
       "      <td>Think Bitcoin is Due for a Rally? Consider The...</td>\n",
       "      <td>By StockNews</td>\n",
       "      <td>2021-07-01</td>\n",
       "    </tr>\n",
       "    <tr>\n",
       "      <th>5535</th>\n",
       "      <td>09/30/2021, 21:32:47</td>\n",
       "      <td>1275c5e6add91c4fd208a68d666c9c74</td>\n",
       "      <td>Strike Adds Bitcoin Buying Tab In App</td>\n",
       "      <td>By Bitcoin Magazine</td>\n",
       "      <td>2021-07-01</td>\n",
       "    </tr>\n",
       "  </tbody>\n",
       "</table>\n",
       "<p>5536 rows × 5 columns</p>\n",
       "</div>"
      ],
      "text/plain": [
       "               Source_date                              hash  \\\n",
       "0     09/30/2021, 20:54:18  fc7a05bddeb9dc122b2cc81d4a3681f5   \n",
       "1     09/30/2021, 20:54:18  4071dc6d77f81e7e76294d69a0bd0b12   \n",
       "2     09/30/2021, 20:54:18  f584141957ed385e1343c6ab08ba6f2e   \n",
       "3     09/30/2021, 20:54:18  5c2bf946cf892db1cc258681e7372126   \n",
       "4     09/30/2021, 20:54:18  302914b28fdfa98c83e9c190e0156b23   \n",
       "...                    ...                               ...   \n",
       "5531  09/30/2021, 21:32:47  bbf292eaa0a4b086c786287e601664cc   \n",
       "5532  09/30/2021, 21:32:47  1a63542f6c6ab53ccb97c67653df92ef   \n",
       "5533  09/30/2021, 21:32:47  23c632e95220a6bc3f09b584f150a488   \n",
       "5534  09/30/2021, 21:32:47  1a63542f6c6ab53ccb97c67653df92ef   \n",
       "5535  09/30/2021, 21:32:47  1275c5e6add91c4fd208a68d666c9c74   \n",
       "\n",
       "                                                   news               journal  \\\n",
       "0     Buy Solana (SOL) Now, or Wait for a Dip on Alt...     By InsideBitcoins   \n",
       "1     Bitcoin (BTC) Price Prediction: BTC/USD Faces ...     By InsideBitcoins   \n",
       "2        ADAX Pro AMA Takeaway. Launching As Soon As Q4          By DailyCoin   \n",
       "3     Bitcoin Forecast For 2022 From Financial Insti...          By DailyCoin   \n",
       "4     Crypto: Decentralized finance protocol Compoun...        By MarketWatch   \n",
       "...                                                 ...                   ...   \n",
       "5531  Hut 8 Buys 11,090 New Bitcoin Mining Rigs For ...   By Bitcoin Magazine   \n",
       "5532  Think Bitcoin is Due for a Rally? Consider The...          By StockNews   \n",
       "5533  Mexico Rebukes Pliego’s Calls for BTC Transact...  By Live Bitcoin News   \n",
       "5534  Think Bitcoin is Due for a Rally? Consider The...          By StockNews   \n",
       "5535              Strike Adds Bitcoin Buying Tab In App   By Bitcoin Magazine   \n",
       "\n",
       "            date  \n",
       "0     2021-09-30  \n",
       "1     2021-09-30  \n",
       "2     2021-09-30  \n",
       "3     2021-09-30  \n",
       "4     2021-09-30  \n",
       "...          ...  \n",
       "5531  2021-07-01  \n",
       "5532  2021-07-01  \n",
       "5533  2021-07-01  \n",
       "5534  2021-07-01  \n",
       "5535  2021-07-01  \n",
       "\n",
       "[5536 rows x 5 columns]"
      ]
     },
     "execution_count": 2,
     "metadata": {},
     "output_type": "execute_result"
    }
   ],
   "source": [
    "#df = pd.read_csv(r'C:\\Users\\HP 1030 G2\\Desktop\\Cours DIT\\El Hadj\\oil-stocks-prediction\\data\\articles\\back.txt',sep='|',encoding='latin-1',error_bad_lines=False)\n",
    "df = pd.read_csv(FILE_PATH, sep='|', encoding='utf-8', error_bad_lines=False)\n",
    "df"
   ]
  },
  {
   "cell_type": "code",
   "execution_count": 3,
   "metadata": {},
   "outputs": [
    {
     "data": {
      "text/html": [
       "<div>\n",
       "<style scoped>\n",
       "    .dataframe tbody tr th:only-of-type {\n",
       "        vertical-align: middle;\n",
       "    }\n",
       "\n",
       "    .dataframe tbody tr th {\n",
       "        vertical-align: top;\n",
       "    }\n",
       "\n",
       "    .dataframe thead th {\n",
       "        text-align: right;\n",
       "    }\n",
       "</style>\n",
       "<table border=\"1\" class=\"dataframe\">\n",
       "  <thead>\n",
       "    <tr style=\"text-align: right;\">\n",
       "      <th></th>\n",
       "      <th>news</th>\n",
       "      <th>date</th>\n",
       "    </tr>\n",
       "  </thead>\n",
       "  <tbody>\n",
       "    <tr>\n",
       "      <th>0</th>\n",
       "      <td>Buy Solana (SOL) Now, or Wait for a Dip on Alt...</td>\n",
       "      <td>30/09/2021</td>\n",
       "    </tr>\n",
       "    <tr>\n",
       "      <th>1</th>\n",
       "      <td>Bitcoin (BTC) Price Prediction: BTC/USD Faces ...</td>\n",
       "      <td>30/09/2021</td>\n",
       "    </tr>\n",
       "    <tr>\n",
       "      <th>2</th>\n",
       "      <td>ADAX Pro AMA Takeaway. Launching As Soon As Q4</td>\n",
       "      <td>30/09/2021</td>\n",
       "    </tr>\n",
       "    <tr>\n",
       "      <th>3</th>\n",
       "      <td>Bitcoin Forecast For 2022 From Financial Insti...</td>\n",
       "      <td>30/09/2021</td>\n",
       "    </tr>\n",
       "    <tr>\n",
       "      <th>4</th>\n",
       "      <td>Crypto: Decentralized finance protocol Compoun...</td>\n",
       "      <td>30/09/2021</td>\n",
       "    </tr>\n",
       "    <tr>\n",
       "      <th>...</th>\n",
       "      <td>...</td>\n",
       "      <td>...</td>\n",
       "    </tr>\n",
       "    <tr>\n",
       "      <th>5531</th>\n",
       "      <td>Hut 8 Buys 11,090 New Bitcoin Mining Rigs For ...</td>\n",
       "      <td>01/07/2021</td>\n",
       "    </tr>\n",
       "    <tr>\n",
       "      <th>5532</th>\n",
       "      <td>Think Bitcoin is Due for a Rally? Consider The...</td>\n",
       "      <td>01/07/2021</td>\n",
       "    </tr>\n",
       "    <tr>\n",
       "      <th>5533</th>\n",
       "      <td>Mexico Rebukes Pliego’s Calls for BTC Transact...</td>\n",
       "      <td>01/07/2021</td>\n",
       "    </tr>\n",
       "    <tr>\n",
       "      <th>5534</th>\n",
       "      <td>Think Bitcoin is Due for a Rally? Consider The...</td>\n",
       "      <td>01/07/2021</td>\n",
       "    </tr>\n",
       "    <tr>\n",
       "      <th>5535</th>\n",
       "      <td>Strike Adds Bitcoin Buying Tab In App</td>\n",
       "      <td>01/07/2021</td>\n",
       "    </tr>\n",
       "  </tbody>\n",
       "</table>\n",
       "<p>5536 rows × 2 columns</p>\n",
       "</div>"
      ],
      "text/plain": [
       "                                                   news        date\n",
       "0     Buy Solana (SOL) Now, or Wait for a Dip on Alt...  30/09/2021\n",
       "1     Bitcoin (BTC) Price Prediction: BTC/USD Faces ...  30/09/2021\n",
       "2        ADAX Pro AMA Takeaway. Launching As Soon As Q4  30/09/2021\n",
       "3     Bitcoin Forecast For 2022 From Financial Insti...  30/09/2021\n",
       "4     Crypto: Decentralized finance protocol Compoun...  30/09/2021\n",
       "...                                                 ...         ...\n",
       "5531  Hut 8 Buys 11,090 New Bitcoin Mining Rigs For ...  01/07/2021\n",
       "5532  Think Bitcoin is Due for a Rally? Consider The...  01/07/2021\n",
       "5533  Mexico Rebukes Pliego’s Calls for BTC Transact...  01/07/2021\n",
       "5534  Think Bitcoin is Due for a Rally? Consider The...  01/07/2021\n",
       "5535              Strike Adds Bitcoin Buying Tab In App  01/07/2021\n",
       "\n",
       "[5536 rows x 2 columns]"
      ]
     },
     "execution_count": 3,
     "metadata": {},
     "output_type": "execute_result"
    }
   ],
   "source": [
    "# drop unuseful variables\n",
    "\n",
    "def permute_date(s):\n",
    "    year, month, day = s.split(\"/\")\n",
    "    return \"/\".join([day, month, year])\n",
    "\n",
    "df = df.drop(['Source_date','hash','journal'], axis=1)\n",
    "df.date = df.date.apply(lambda s: s.replace(\"-\", \"/\"))\n",
    "df.date = df.date.apply(lambda s: permute_date(s))\n",
    "\n",
    "df"
   ]
  },
  {
   "cell_type": "code",
   "execution_count": 4,
   "metadata": {},
   "outputs": [
    {
     "data": {
      "text/html": [
       "<div>\n",
       "<style scoped>\n",
       "    .dataframe tbody tr th:only-of-type {\n",
       "        vertical-align: middle;\n",
       "    }\n",
       "\n",
       "    .dataframe tbody tr th {\n",
       "        vertical-align: top;\n",
       "    }\n",
       "\n",
       "    .dataframe thead th {\n",
       "        text-align: right;\n",
       "    }\n",
       "</style>\n",
       "<table border=\"1\" class=\"dataframe\">\n",
       "  <thead>\n",
       "    <tr style=\"text-align: right;\">\n",
       "      <th></th>\n",
       "      <th>daily_news</th>\n",
       "    </tr>\n",
       "    <tr>\n",
       "      <th>date</th>\n",
       "      <th></th>\n",
       "    </tr>\n",
       "  </thead>\n",
       "  <tbody>\n",
       "    <tr>\n",
       "      <th>30/09/2021</th>\n",
       "      <td>Buy Solana (SOL) Now, or Wait for a Dip on Alt...</td>\n",
       "    </tr>\n",
       "    <tr>\n",
       "      <th>29/09/2021</th>\n",
       "      <td>A flippant Elon Musk takes shots at Biden, the...</td>\n",
       "    </tr>\n",
       "    <tr>\n",
       "      <th>28/09/2021</th>\n",
       "      <td>El Salvador President Shares Images of What Se...</td>\n",
       "    </tr>\n",
       "    <tr>\n",
       "      <th>27/09/2021</th>\n",
       "      <td>TA: Bitcoin Stuck In Range, What Could Spark K...</td>\n",
       "    </tr>\n",
       "    <tr>\n",
       "      <th>26/09/2021</th>\n",
       "      <td>TA: Bitcoin Forms Bullish Pattern, Why BTC Cou...</td>\n",
       "    </tr>\n",
       "    <tr>\n",
       "      <th>...</th>\n",
       "      <td>...</td>\n",
       "    </tr>\n",
       "    <tr>\n",
       "      <th>05/07/2021</th>\n",
       "      <td>TA: Bitcoin Prints Bearish Technical Pattern, ...</td>\n",
       "    </tr>\n",
       "    <tr>\n",
       "      <th>04/07/2021</th>\n",
       "      <td>TA: Bitcoin Correcting Gains, What Could Trigg...</td>\n",
       "    </tr>\n",
       "    <tr>\n",
       "      <th>03/07/2021</th>\n",
       "      <td>JPMorgan Predicts When Bitcoin Bear Market Wil...</td>\n",
       "    </tr>\n",
       "    <tr>\n",
       "      <th>02/07/2021</th>\n",
       "      <td>Bitcoin Blocks Will Soon Be 27% Easier to Find...</td>\n",
       "    </tr>\n",
       "    <tr>\n",
       "      <th>01/07/2021</th>\n",
       "      <td>Use Of Green Energy For Bitcoin Mining Increas...</td>\n",
       "    </tr>\n",
       "  </tbody>\n",
       "</table>\n",
       "<p>91 rows × 1 columns</p>\n",
       "</div>"
      ],
      "text/plain": [
       "                                                   daily_news\n",
       "date                                                         \n",
       "30/09/2021  Buy Solana (SOL) Now, or Wait for a Dip on Alt...\n",
       "29/09/2021  A flippant Elon Musk takes shots at Biden, the...\n",
       "28/09/2021  El Salvador President Shares Images of What Se...\n",
       "27/09/2021  TA: Bitcoin Stuck In Range, What Could Spark K...\n",
       "26/09/2021  TA: Bitcoin Forms Bullish Pattern, Why BTC Cou...\n",
       "...                                                       ...\n",
       "05/07/2021  TA: Bitcoin Prints Bearish Technical Pattern, ...\n",
       "04/07/2021  TA: Bitcoin Correcting Gains, What Could Trigg...\n",
       "03/07/2021  JPMorgan Predicts When Bitcoin Bear Market Wil...\n",
       "02/07/2021  Bitcoin Blocks Will Soon Be 27% Easier to Find...\n",
       "01/07/2021  Use Of Green Energy For Bitcoin Mining Increas...\n",
       "\n",
       "[91 rows x 1 columns]"
      ]
     },
     "execution_count": 4,
     "metadata": {},
     "output_type": "execute_result"
    }
   ],
   "source": [
    "# aggregate per date\n",
    "df['daily_news'] = df.groupby(['date'])['news'].transform(lambda x : ' '.join(x))\n",
    "df = df.drop('news', axis=1)\n",
    "df = df.drop_duplicates()\n",
    "df = df.set_index(\"date\")\n",
    "\n",
    "#df = df.reset_index()\n",
    "df"
   ]
  },
  {
   "cell_type": "markdown",
   "metadata": {},
   "source": [
    "# Load historical file"
   ]
  },
  {
   "cell_type": "code",
   "execution_count": 5,
   "metadata": {},
   "outputs": [
    {
     "data": {
      "text/html": [
       "<div>\n",
       "<style scoped>\n",
       "    .dataframe tbody tr th:only-of-type {\n",
       "        vertical-align: middle;\n",
       "    }\n",
       "\n",
       "    .dataframe tbody tr th {\n",
       "        vertical-align: top;\n",
       "    }\n",
       "\n",
       "    .dataframe thead th {\n",
       "        text-align: right;\n",
       "    }\n",
       "</style>\n",
       "<table border=\"1\" class=\"dataframe\">\n",
       "  <thead>\n",
       "    <tr style=\"text-align: right;\">\n",
       "      <th></th>\n",
       "      <th>Date</th>\n",
       "      <th>Dernier</th>\n",
       "      <th>Ouv.</th>\n",
       "      <th>Plus Haut</th>\n",
       "      <th>Plus Bas</th>\n",
       "      <th>Vol.</th>\n",
       "      <th>Variation %</th>\n",
       "    </tr>\n",
       "  </thead>\n",
       "  <tbody>\n",
       "    <tr>\n",
       "      <th>0</th>\n",
       "      <td>30/09/2021</td>\n",
       "      <td>43.823,3</td>\n",
       "      <td>41.534,5</td>\n",
       "      <td>44.101,2</td>\n",
       "      <td>41.416,7</td>\n",
       "      <td>64,32K</td>\n",
       "      <td>5,50%</td>\n",
       "    </tr>\n",
       "    <tr>\n",
       "      <th>1</th>\n",
       "      <td>29/09/2021</td>\n",
       "      <td>41.536,8</td>\n",
       "      <td>41.023,1</td>\n",
       "      <td>42.571,2</td>\n",
       "      <td>40.815,0</td>\n",
       "      <td>48,21K</td>\n",
       "      <td>1,25%</td>\n",
       "    </tr>\n",
       "    <tr>\n",
       "      <th>2</th>\n",
       "      <td>28/09/2021</td>\n",
       "      <td>41.022,3</td>\n",
       "      <td>42.169,9</td>\n",
       "      <td>42.758,8</td>\n",
       "      <td>40.906,4</td>\n",
       "      <td>60,01K</td>\n",
       "      <td>-2,73%</td>\n",
       "    </tr>\n",
       "    <tr>\n",
       "      <th>3</th>\n",
       "      <td>27/09/2021</td>\n",
       "      <td>42.172,6</td>\n",
       "      <td>43.200,9</td>\n",
       "      <td>44.293,2</td>\n",
       "      <td>42.143,9</td>\n",
       "      <td>54,12K</td>\n",
       "      <td>-2,39%</td>\n",
       "    </tr>\n",
       "    <tr>\n",
       "      <th>4</th>\n",
       "      <td>26/09/2021</td>\n",
       "      <td>43.203,4</td>\n",
       "      <td>42.685,8</td>\n",
       "      <td>43.907,3</td>\n",
       "      <td>40.786,6</td>\n",
       "      <td>69,91K</td>\n",
       "      <td>1,21%</td>\n",
       "    </tr>\n",
       "    <tr>\n",
       "      <th>...</th>\n",
       "      <td>...</td>\n",
       "      <td>...</td>\n",
       "      <td>...</td>\n",
       "      <td>...</td>\n",
       "      <td>...</td>\n",
       "      <td>...</td>\n",
       "      <td>...</td>\n",
       "    </tr>\n",
       "    <tr>\n",
       "      <th>87</th>\n",
       "      <td>05/07/2021</td>\n",
       "      <td>33.687,8</td>\n",
       "      <td>35.297,0</td>\n",
       "      <td>35.300,5</td>\n",
       "      <td>33.164,1</td>\n",
       "      <td>88,36K</td>\n",
       "      <td>-4,56%</td>\n",
       "    </tr>\n",
       "    <tr>\n",
       "      <th>88</th>\n",
       "      <td>04/07/2021</td>\n",
       "      <td>35.298,2</td>\n",
       "      <td>34.742,8</td>\n",
       "      <td>35.957,6</td>\n",
       "      <td>34.740,1</td>\n",
       "      <td>56,13K</td>\n",
       "      <td>1,60%</td>\n",
       "    </tr>\n",
       "    <tr>\n",
       "      <th>89</th>\n",
       "      <td>03/07/2021</td>\n",
       "      <td>34.742,8</td>\n",
       "      <td>33.814,2</td>\n",
       "      <td>34.909,8</td>\n",
       "      <td>33.363,3</td>\n",
       "      <td>55,69K</td>\n",
       "      <td>2,75%</td>\n",
       "    </tr>\n",
       "    <tr>\n",
       "      <th>90</th>\n",
       "      <td>02/07/2021</td>\n",
       "      <td>33.813,4</td>\n",
       "      <td>33.542,2</td>\n",
       "      <td>33.925,9</td>\n",
       "      <td>32.734,6</td>\n",
       "      <td>78,93K</td>\n",
       "      <td>0,80%</td>\n",
       "    </tr>\n",
       "    <tr>\n",
       "      <th>91</th>\n",
       "      <td>01/07/2021</td>\n",
       "      <td>33.543,6</td>\n",
       "      <td>35.030,7</td>\n",
       "      <td>35.032,7</td>\n",
       "      <td>32.839,2</td>\n",
       "      <td>27,41K</td>\n",
       "      <td>-4,23%</td>\n",
       "    </tr>\n",
       "  </tbody>\n",
       "</table>\n",
       "<p>92 rows × 7 columns</p>\n",
       "</div>"
      ],
      "text/plain": [
       "          Date   Dernier      Ouv. Plus Haut  Plus Bas    Vol. Variation %\n",
       "0   30/09/2021  43.823,3  41.534,5  44.101,2  41.416,7  64,32K       5,50%\n",
       "1   29/09/2021  41.536,8  41.023,1  42.571,2  40.815,0  48,21K       1,25%\n",
       "2   28/09/2021  41.022,3  42.169,9  42.758,8  40.906,4  60,01K      -2,73%\n",
       "3   27/09/2021  42.172,6  43.200,9  44.293,2  42.143,9  54,12K      -2,39%\n",
       "4   26/09/2021  43.203,4  42.685,8  43.907,3  40.786,6  69,91K       1,21%\n",
       "..         ...       ...       ...       ...       ...     ...         ...\n",
       "87  05/07/2021  33.687,8  35.297,0  35.300,5  33.164,1  88,36K      -4,56%\n",
       "88  04/07/2021  35.298,2  34.742,8  35.957,6  34.740,1  56,13K       1,60%\n",
       "89  03/07/2021  34.742,8  33.814,2  34.909,8  33.363,3  55,69K       2,75%\n",
       "90  02/07/2021  33.813,4  33.542,2  33.925,9  32.734,6  78,93K       0,80%\n",
       "91  01/07/2021  33.543,6  35.030,7  35.032,7  32.839,2  27,41K      -4,23%\n",
       "\n",
       "[92 rows x 7 columns]"
      ]
     },
     "execution_count": 5,
     "metadata": {},
     "output_type": "execute_result"
    }
   ],
   "source": [
    "history = pd.read_csv(HISTORY_PATH)\n",
    "history"
   ]
  },
  {
   "cell_type": "code",
   "execution_count": 6,
   "metadata": {},
   "outputs": [
    {
     "name": "stderr",
     "output_type": "stream",
     "text": [
      "<ipython-input-6-a579ee639d11>:12: SettingWithCopyWarning: \n",
      "A value is trying to be set on a copy of a slice from a DataFrame.\n",
      "Try using .loc[row_indexer,col_indexer] = value instead\n",
      "\n",
      "See the caveats in the documentation: https://pandas.pydata.org/pandas-docs/stable/user_guide/indexing.html#returning-a-view-versus-a-copy\n",
      "  history[\"label\"] = history[\"Dernier\"] - history[\"Ouv.\"]\n"
     ]
    },
    {
     "data": {
      "text/html": [
       "<div>\n",
       "<style scoped>\n",
       "    .dataframe tbody tr th:only-of-type {\n",
       "        vertical-align: middle;\n",
       "    }\n",
       "\n",
       "    .dataframe tbody tr th {\n",
       "        vertical-align: top;\n",
       "    }\n",
       "\n",
       "    .dataframe thead th {\n",
       "        text-align: right;\n",
       "    }\n",
       "</style>\n",
       "<table border=\"1\" class=\"dataframe\">\n",
       "  <thead>\n",
       "    <tr style=\"text-align: right;\">\n",
       "      <th></th>\n",
       "      <th>label</th>\n",
       "    </tr>\n",
       "    <tr>\n",
       "      <th>Date</th>\n",
       "      <th></th>\n",
       "    </tr>\n",
       "  </thead>\n",
       "  <tbody>\n",
       "    <tr>\n",
       "      <th>30/09/2021</th>\n",
       "      <td>positive</td>\n",
       "    </tr>\n",
       "    <tr>\n",
       "      <th>29/09/2021</th>\n",
       "      <td>positive</td>\n",
       "    </tr>\n",
       "    <tr>\n",
       "      <th>28/09/2021</th>\n",
       "      <td>negative</td>\n",
       "    </tr>\n",
       "    <tr>\n",
       "      <th>27/09/2021</th>\n",
       "      <td>negative</td>\n",
       "    </tr>\n",
       "    <tr>\n",
       "      <th>26/09/2021</th>\n",
       "      <td>positive</td>\n",
       "    </tr>\n",
       "    <tr>\n",
       "      <th>...</th>\n",
       "      <td>...</td>\n",
       "    </tr>\n",
       "    <tr>\n",
       "      <th>05/07/2021</th>\n",
       "      <td>negative</td>\n",
       "    </tr>\n",
       "    <tr>\n",
       "      <th>04/07/2021</th>\n",
       "      <td>positive</td>\n",
       "    </tr>\n",
       "    <tr>\n",
       "      <th>03/07/2021</th>\n",
       "      <td>positive</td>\n",
       "    </tr>\n",
       "    <tr>\n",
       "      <th>02/07/2021</th>\n",
       "      <td>positive</td>\n",
       "    </tr>\n",
       "    <tr>\n",
       "      <th>01/07/2021</th>\n",
       "      <td>negative</td>\n",
       "    </tr>\n",
       "  </tbody>\n",
       "</table>\n",
       "<p>92 rows × 1 columns</p>\n",
       "</div>"
      ],
      "text/plain": [
       "               label\n",
       "Date                \n",
       "30/09/2021  positive\n",
       "29/09/2021  positive\n",
       "28/09/2021  negative\n",
       "27/09/2021  negative\n",
       "26/09/2021  positive\n",
       "...              ...\n",
       "05/07/2021  negative\n",
       "04/07/2021  positive\n",
       "03/07/2021  positive\n",
       "02/07/2021  positive\n",
       "01/07/2021  negative\n",
       "\n",
       "[92 rows x 1 columns]"
      ]
     },
     "execution_count": 6,
     "metadata": {},
     "output_type": "execute_result"
    }
   ],
   "source": [
    "def labelize(s):\n",
    "   if s >= 0:\n",
    "      return \"positive\"\n",
    "   return \"negative\"\n",
    "   \n",
    "cols = [\"Dernier\", \"Ouv.\"]\n",
    "for col in cols:\n",
    "   history[col] = history[col].apply(lambda s: s.split(',')[0])\n",
    "history[cols] = history[cols].astype(\"float\")\n",
    "cols = cols + [\"Date\"]\n",
    "history = history[cols]\n",
    "history[\"label\"] = history[\"Dernier\"] - history[\"Ouv.\"]\n",
    "history = history[[\"Date\", \"label\"]]\n",
    "history.label = history.label.apply(lambda s: labelize(s))\n",
    "history = history.set_index('Date')\n",
    "history"
   ]
  },
  {
   "cell_type": "markdown",
   "metadata": {},
   "source": [
    "# merge the dataset"
   ]
  },
  {
   "cell_type": "code",
   "execution_count": 7,
   "metadata": {},
   "outputs": [
    {
     "data": {
      "text/html": [
       "<div>\n",
       "<style scoped>\n",
       "    .dataframe tbody tr th:only-of-type {\n",
       "        vertical-align: middle;\n",
       "    }\n",
       "\n",
       "    .dataframe tbody tr th {\n",
       "        vertical-align: top;\n",
       "    }\n",
       "\n",
       "    .dataframe thead th {\n",
       "        text-align: right;\n",
       "    }\n",
       "</style>\n",
       "<table border=\"1\" class=\"dataframe\">\n",
       "  <thead>\n",
       "    <tr style=\"text-align: right;\">\n",
       "      <th></th>\n",
       "      <th>daily_news</th>\n",
       "      <th>label</th>\n",
       "    </tr>\n",
       "  </thead>\n",
       "  <tbody>\n",
       "    <tr>\n",
       "      <th>0</th>\n",
       "      <td>Buy Solana (SOL) Now, or Wait for a Dip on Alt...</td>\n",
       "      <td>positive</td>\n",
       "    </tr>\n",
       "    <tr>\n",
       "      <th>1</th>\n",
       "      <td>A flippant Elon Musk takes shots at Biden, the...</td>\n",
       "      <td>positive</td>\n",
       "    </tr>\n",
       "    <tr>\n",
       "      <th>2</th>\n",
       "      <td>El Salvador President Shares Images of What Se...</td>\n",
       "      <td>negative</td>\n",
       "    </tr>\n",
       "    <tr>\n",
       "      <th>3</th>\n",
       "      <td>TA: Bitcoin Stuck In Range, What Could Spark K...</td>\n",
       "      <td>negative</td>\n",
       "    </tr>\n",
       "    <tr>\n",
       "      <th>4</th>\n",
       "      <td>TA: Bitcoin Forms Bullish Pattern, Why BTC Cou...</td>\n",
       "      <td>positive</td>\n",
       "    </tr>\n",
       "    <tr>\n",
       "      <th>...</th>\n",
       "      <td>...</td>\n",
       "      <td>...</td>\n",
       "    </tr>\n",
       "    <tr>\n",
       "      <th>86</th>\n",
       "      <td>TA: Bitcoin Prints Bearish Technical Pattern, ...</td>\n",
       "      <td>negative</td>\n",
       "    </tr>\n",
       "    <tr>\n",
       "      <th>87</th>\n",
       "      <td>TA: Bitcoin Correcting Gains, What Could Trigg...</td>\n",
       "      <td>positive</td>\n",
       "    </tr>\n",
       "    <tr>\n",
       "      <th>88</th>\n",
       "      <td>JPMorgan Predicts When Bitcoin Bear Market Wil...</td>\n",
       "      <td>positive</td>\n",
       "    </tr>\n",
       "    <tr>\n",
       "      <th>89</th>\n",
       "      <td>Bitcoin Blocks Will Soon Be 27% Easier to Find...</td>\n",
       "      <td>positive</td>\n",
       "    </tr>\n",
       "    <tr>\n",
       "      <th>90</th>\n",
       "      <td>Use Of Green Energy For Bitcoin Mining Increas...</td>\n",
       "      <td>negative</td>\n",
       "    </tr>\n",
       "  </tbody>\n",
       "</table>\n",
       "<p>91 rows × 2 columns</p>\n",
       "</div>"
      ],
      "text/plain": [
       "                                           daily_news     label\n",
       "0   Buy Solana (SOL) Now, or Wait for a Dip on Alt...  positive\n",
       "1   A flippant Elon Musk takes shots at Biden, the...  positive\n",
       "2   El Salvador President Shares Images of What Se...  negative\n",
       "3   TA: Bitcoin Stuck In Range, What Could Spark K...  negative\n",
       "4   TA: Bitcoin Forms Bullish Pattern, Why BTC Cou...  positive\n",
       "..                                                ...       ...\n",
       "86  TA: Bitcoin Prints Bearish Technical Pattern, ...  negative\n",
       "87  TA: Bitcoin Correcting Gains, What Could Trigg...  positive\n",
       "88  JPMorgan Predicts When Bitcoin Bear Market Wil...  positive\n",
       "89  Bitcoin Blocks Will Soon Be 27% Easier to Find...  positive\n",
       "90  Use Of Green Energy For Bitcoin Mining Increas...  negative\n",
       "\n",
       "[91 rows x 2 columns]"
      ]
     },
     "execution_count": 7,
     "metadata": {},
     "output_type": "execute_result"
    }
   ],
   "source": [
    "label_df = pd.concat([df, history], axis=1, join=\"inner\")\n",
    "# we dont need the date column, then we remove them\n",
    "label_df = label_df.reset_index().drop('index', axis=1)\n",
    "label_df"
   ]
  },
  {
   "cell_type": "code",
   "execution_count": 8,
   "metadata": {},
   "outputs": [
    {
     "name": "stderr",
     "output_type": "stream",
     "text": [
      "C:\\Users\\HP 1030 G2\\anaconda3\\lib\\site-packages\\seaborn\\_decorators.py:36: FutureWarning: Pass the following variable as a keyword arg: x. From version 0.12, the only valid positional argument will be `data`, and passing other arguments without an explicit keyword will result in an error or misinterpretation.\n",
      "  warnings.warn(\n"
     ]
    },
    {
     "data": {
      "text/plain": [
       "<AxesSubplot:xlabel='label', ylabel='count'>"
      ]
     },
     "execution_count": 8,
     "metadata": {},
     "output_type": "execute_result"
    },
    {
     "data": {
      "image/png": "[encoded data removed]",
      "text/plain": [
       "<Figure size 432x288 with 1 Axes>"
      ]
     },
     "metadata": {
      "needs_background": "light"
     },
     "output_type": "display_data"
    }
   ],
   "source": [
    "import seaborn as sns\n",
    "sns.countplot(label_df.label)"
   ]
  },
  {
   "cell_type": "markdown",
   "metadata": {},
   "source": [
    "#### we dont face a imbalanced dataset case, so we can run our model"
   ]
  },
  {
   "cell_type": "markdown",
   "metadata": {},
   "source": [
    "# Always start with a simple model"
   ]
  },
  {
   "cell_type": "code",
   "execution_count": 9,
   "metadata": {},
   "outputs": [
    {
     "name": "stdout",
     "output_type": "stream",
     "text": [
      "(91,)\n",
      "(91,)\n"
     ]
    }
   ],
   "source": [
    "features = label_df.daily_news\n",
    "labels = label_df.label\n",
    "print(features.shape)\n",
    "print(labels.shape)"
   ]
  },
  {
   "cell_type": "code",
   "execution_count": 10,
   "metadata": {},
   "outputs": [
    {
     "data": {
      "text/plain": [
       "0     Buy Solana (SOL) Now, or Wait for a Dip on Alt...\n",
       "1     A flippant Elon Musk takes shots at Biden, the...\n",
       "2     El Salvador President Shares Images of What Se...\n",
       "3     TA: Bitcoin Stuck In Range, What Could Spark K...\n",
       "4     TA: Bitcoin Forms Bullish Pattern, Why BTC Cou...\n",
       "                            ...                        \n",
       "86    TA: Bitcoin Prints Bearish Technical Pattern, ...\n",
       "87    TA: Bitcoin Correcting Gains, What Could Trigg...\n",
       "88    JPMorgan Predicts When Bitcoin Bear Market Wil...\n",
       "89    Bitcoin Blocks Will Soon Be 27% Easier to Find...\n",
       "90    Use Of Green Energy For Bitcoin Mining Increas...\n",
       "Name: daily_news, Length: 91, dtype: object"
      ]
     },
     "execution_count": 10,
     "metadata": {},
     "output_type": "execute_result"
    }
   ],
   "source": [
    "features"
   ]
  },
  {
   "cell_type": "code",
   "execution_count": 11,
   "metadata": {},
   "outputs": [
    {
     "data": {
      "text/html": [
       "<div>\n",
       "<style scoped>\n",
       "    .dataframe tbody tr th:only-of-type {\n",
       "        vertical-align: middle;\n",
       "    }\n",
       "\n",
       "    .dataframe tbody tr th {\n",
       "        vertical-align: top;\n",
       "    }\n",
       "\n",
       "    .dataframe thead th {\n",
       "        text-align: right;\n",
       "    }\n",
       "</style>\n",
       "<table border=\"1\" class=\"dataframe\">\n",
       "  <thead>\n",
       "    <tr style=\"text-align: right;\">\n",
       "      <th></th>\n",
       "      <th>positive</th>\n",
       "    </tr>\n",
       "  </thead>\n",
       "  <tbody>\n",
       "    <tr>\n",
       "      <th>0</th>\n",
       "      <td>1</td>\n",
       "    </tr>\n",
       "    <tr>\n",
       "      <th>1</th>\n",
       "      <td>1</td>\n",
       "    </tr>\n",
       "    <tr>\n",
       "      <th>2</th>\n",
       "      <td>0</td>\n",
       "    </tr>\n",
       "    <tr>\n",
       "      <th>3</th>\n",
       "      <td>0</td>\n",
       "    </tr>\n",
       "    <tr>\n",
       "      <th>4</th>\n",
       "      <td>1</td>\n",
       "    </tr>\n",
       "  </tbody>\n",
       "</table>\n",
       "</div>"
      ],
      "text/plain": [
       "   positive\n",
       "0         1\n",
       "1         1\n",
       "2         0\n",
       "3         0\n",
       "4         1"
      ]
     },
     "execution_count": 11,
     "metadata": {},
     "output_type": "execute_result"
    }
   ],
   "source": [
    "categorical_df = pd.get_dummies(labels,drop_first=True)\n",
    "categorical_df.head()"
   ]
  },
  {
   "cell_type": "markdown",
   "metadata": {},
   "source": [
    "## process text"
   ]
  },
  {
   "cell_type": "code",
   "execution_count": 12,
   "metadata": {},
   "outputs": [],
   "source": [
    "import re\n",
    "def process_text(text):\n",
    "    # removed all the special characters \n",
    "    processed_feature = re.sub(r'\\W', ' ', str(text))\n",
    "\n",
    "    # remove all single characters \n",
    "    processed_feature = re.sub(r'\\s+[a-zA-Z]\\s+', ' ', processed_feature)\n",
    "\n",
    "    # remove single characters from start \n",
    "    processed_feature = re.sub(r'\\^[a-zA-Z]\\s+', ' ', processed_feature)\n",
    "\n",
    "    # substuting multiple spaces with single space\n",
    "    processed_feature = re.sub(r'\\s+', ' ', processed_feature, flags = re.I)\n",
    "\n",
    "    # removing prefixed b\n",
    "    processed_feature = re.sub(r'^b\\s+', ' ', processed_feature) \n",
    "\n",
    "    processed_feature = processed_feature.lower()\n",
    "    return processed_feature\n",
    " \n",
    "    \n",
    "\n"
   ]
  },
  {
   "cell_type": "code",
   "execution_count": 13,
   "metadata": {},
   "outputs": [],
   "source": [
    "features = [process_text(s) for s in features.values]"
   ]
  },
  {
   "cell_type": "markdown",
   "metadata": {},
   "source": [
    "## remove stopwords"
   ]
  },
  {
   "cell_type": "code",
   "execution_count": 15,
   "metadata": {},
   "outputs": [
    {
     "name": "stderr",
     "output_type": "stream",
     "text": [
      "[nltk_data] Downloading package stopwords to C:\\Users\\HP 1030\n",
      "[nltk_data]     G2\\AppData\\Roaming\\nltk_data...\n",
      "[nltk_data]   Package stopwords is already up-to-date!\n"
     ]
    }
   ],
   "source": [
    "import nltk\n",
    "nltk.download('stopwords')\n",
    "from nltk.corpus import stopwords \n",
    "from sklearn.feature_extraction.text import TfidfVectorizer\n",
    "\n",
    "vectorizer= TfidfVectorizer(max_features = 2500, min_df = 7, max_df = 0.8, stop_words = stopwords.words('english'))\n",
    "p_features = vectorizer.fit_transform(features).toarray()"
   ]
  },
  {
   "cell_type": "code",
   "execution_count": 16,
   "metadata": {},
   "outputs": [
    {
     "data": {
      "text/plain": [
       "(91, 1126)"
      ]
     },
     "execution_count": 16,
     "metadata": {},
     "output_type": "execute_result"
    }
   ],
   "source": [
    "p_features.shape"
   ]
  },
  {
   "cell_type": "markdown",
   "metadata": {},
   "source": [
    "#### our features have too lot of dimension, lets reduce them with a PCA model"
   ]
  },
  {
   "cell_type": "markdown",
   "metadata": {},
   "source": [
    "## Principal component analysis to reduce dimension"
   ]
  },
  {
   "cell_type": "code",
   "execution_count": 17,
   "metadata": {},
   "outputs": [
    {
     "data": {
      "text/plain": [
       "array([0.03895186, 0.0710323 , 0.09960691, 0.12694399, 0.15150002,\n",
       "       0.17459277, 0.19716358, 0.21851041, 0.23845559, 0.25783582,\n",
       "       0.27662879, 0.29518896, 0.31317347, 0.33058684, 0.34721125,\n",
       "       0.36360671, 0.37957704, 0.39527932, 0.41044995, 0.42548506,\n",
       "       0.44019812, 0.45465943, 0.46895342, 0.48284605, 0.49644303,\n",
       "       0.5098092 , 0.52279953, 0.53548531, 0.54780979, 0.5598991 ,\n",
       "       0.57173298, 0.58345989, 0.59506357, 0.60638413, 0.61741057,\n",
       "       0.62808798, 0.6386558 , 0.64878611, 0.65887453, 0.66894156,\n",
       "       0.67882943, 0.68862017, 0.69829797, 0.7078568 , 0.71724918,\n",
       "       0.72625204, 0.73513244, 0.74391007, 0.7525715 , 0.76106086,\n",
       "       0.76942582, 0.77772444, 0.78581383, 0.79379552, 0.801751  ,\n",
       "       0.80935169, 0.81683027, 0.82424985, 0.8316064 , 0.83886775,\n",
       "       0.84606523, 0.85322348, 0.86013603, 0.86686148, 0.8735629 ,\n",
       "       0.88011499, 0.88648854, 0.89280649, 0.89892974, 0.90494858,\n",
       "       0.91082601, 0.91660827, 0.92236166, 0.92796141, 0.9334109 ,\n",
       "       0.93871988, 0.9439604 , 0.94904091, 0.95390192, 0.95873972,\n",
       "       0.96355066, 0.96823446, 0.97282417, 0.97735132, 0.98178861,\n",
       "       0.98610086, 0.98997904, 0.9935925 , 0.99701407, 1.        ,\n",
       "       1.        ])"
      ]
     },
     "execution_count": 17,
     "metadata": {},
     "output_type": "execute_result"
    }
   ],
   "source": [
    "from sklearn.decomposition import PCA\n",
    "\n",
    "row, dimension = p_features.shape\n",
    "pca = PCA(n_components=row)\n",
    "pca.fit(p_features)\n",
    "pca.explained_variance_ratio_.cumsum()"
   ]
  },
  {
   "cell_type": "code",
   "execution_count": 18,
   "metadata": {},
   "outputs": [
    {
     "data": {
      "text/plain": [
       "Text(0.5, 1.0, 'PCA for sentiment analysis')"
      ]
     },
     "execution_count": 18,
     "metadata": {},
     "output_type": "execute_result"
    },
    {
     "data": {
      "image/png": "[encoded data removed]",
      "text/plain": [
       "<Figure size 720x576 with 1 Axes>"
      ]
     },
     "metadata": {
      "needs_background": "light"
     },
     "output_type": "display_data"
    }
   ],
   "source": [
    "import matplotlib.pyplot as plt\n",
    "import numpy as np\n",
    "plt.figure(figsize = (10, 8))\n",
    "plt.style.use(\"ggplot\")\n",
    "plt.scatter(np.linspace(0, 91, 91), pca.explained_variance_ratio_.cumsum(), color = \"red\", marker = 'o' )\n",
    "plt.xlabel(\"axis\")\n",
    "plt.ylabel(\"variance explained\")\n",
    "plt.title(\"PCA for sentiment analysis\")"
   ]
  },
  {
   "cell_type": "code",
   "execution_count": 19,
   "metadata": {},
   "outputs": [],
   "source": [
    "p_features_pca = pca.transform(p_features)"
   ]
  },
  {
   "cell_type": "code",
   "execution_count": 20,
   "metadata": {},
   "outputs": [
    {
     "data": {
      "text/plain": [
       "(91, 91)"
      ]
     },
     "execution_count": 20,
     "metadata": {},
     "output_type": "execute_result"
    }
   ],
   "source": [
    "p_features_pca.shape"
   ]
  },
  {
   "cell_type": "code",
   "execution_count": 21,
   "metadata": {},
   "outputs": [],
   "source": [
    "p_features_pca_reduce = p_features_pca[:, 0:40]\n"
   ]
  },
  {
   "cell_type": "code",
   "execution_count": 22,
   "metadata": {},
   "outputs": [
    {
     "data": {
      "text/plain": [
       "(91, 40)"
      ]
     },
     "execution_count": 22,
     "metadata": {},
     "output_type": "execute_result"
    }
   ],
   "source": [
    "p_features_pca_reduce.shape"
   ]
  },
  {
   "cell_type": "markdown",
   "metadata": {},
   "source": [
    "## split into tran & test & validation"
   ]
  },
  {
   "cell_type": "code",
   "execution_count": 23,
   "metadata": {},
   "outputs": [
    {
     "name": "stdout",
     "output_type": "stream",
     "text": [
      "training features size: (51, 40), training label size: (51,)\n",
      "Validation set features size: (17, 40), validation set label size: (17,)\n",
      "test feature size: (23, 40), test label size: (23,)\n"
     ]
    }
   ],
   "source": [
    "# train validation test\n",
    "from sklearn.model_selection import train_test_split  \n",
    "X_train, X_test, y_train, y_test = train_test_split(p_features_pca_reduce, labels, test_size = 0.25, random_state = 7)\n",
    "X_train, X_val, y_train, y_val = train_test_split(X_train, y_train, test_size = 0.25, random_state = 3)\n",
    "\n",
    "\n",
    "# print train test validation set \n",
    "print(\"training features size: {}, training label size: {}\".format(X_train.shape, y_train.shape))\n",
    "\n",
    "# display training validation size \n",
    "print(\"Validation set features size: {}, validation set label size: {}\".format(X_val.shape, y_val.shape))\n",
    "\n",
    "# display test features and labels \n",
    "print(\"test feature size: {}, test label size: {}\".format(X_test.shape , y_test.shape))"
   ]
  },
  {
   "cell_type": "markdown",
   "metadata": {},
   "source": [
    "## logistic naive model (without cross validation)"
   ]
  },
  {
   "cell_type": "code",
   "execution_count": 30,
   "metadata": {},
   "outputs": [
    {
     "name": "stdout",
     "output_type": "stream",
     "text": [
      "validation error: 41.17647058823529\n",
      "test error 47.82608695652174\n"
     ]
    }
   ],
   "source": [
    "\n",
    "import warnings \n",
    "warnings.filterwarnings(\"ignore\")\n",
    "from sklearn.linear_model import LogisticRegression\n",
    "\n",
    "def accuracy(true_value, predicted_value):\n",
    "  # define accuracy metric \n",
    "  return ((true_value == predicted_value).sum()/ len(true_value)) * 100\n",
    "\n",
    "clf = LogisticRegression()\n",
    "clf.fit(X_train, y_train)\n",
    "\n",
    "\n",
    "# prediction on validation test\n",
    "y_pred_val = clf.predict(X_val)\n",
    "val_error = accuracy(y_pred_val, y_val)\n",
    "\n",
    "\n",
    "# prediction on test set\n",
    "y_pred_test = clf.predict(X_test)\n",
    "test_error = accuracy(y_pred_test, y_test)\n",
    "\n",
    "print(\"validation error:\", val_error)\n",
    "print(\"test error\", test_error)"
   ]
  },
  {
   "cell_type": "code",
   "execution_count": 32,
   "metadata": {},
   "outputs": [
    {
     "data": {
      "text/html": [
       "<div>\n",
       "<style scoped>\n",
       "    .dataframe tbody tr th:only-of-type {\n",
       "        vertical-align: middle;\n",
       "    }\n",
       "\n",
       "    .dataframe tbody tr th {\n",
       "        vertical-align: top;\n",
       "    }\n",
       "\n",
       "    .dataframe thead th {\n",
       "        text-align: right;\n",
       "    }\n",
       "</style>\n",
       "<table border=\"1\" class=\"dataframe\">\n",
       "  <thead>\n",
       "    <tr style=\"text-align: right;\">\n",
       "      <th></th>\n",
       "      <th>Real_target_test</th>\n",
       "      <th>Predicted</th>\n",
       "    </tr>\n",
       "  </thead>\n",
       "  <tbody>\n",
       "    <tr>\n",
       "      <th>18</th>\n",
       "      <td>positive</td>\n",
       "      <td>positive</td>\n",
       "    </tr>\n",
       "    <tr>\n",
       "      <th>22</th>\n",
       "      <td>negative</td>\n",
       "      <td>negative</td>\n",
       "    </tr>\n",
       "    <tr>\n",
       "      <th>71</th>\n",
       "      <td>positive</td>\n",
       "      <td>positive</td>\n",
       "    </tr>\n",
       "    <tr>\n",
       "      <th>58</th>\n",
       "      <td>negative</td>\n",
       "      <td>positive</td>\n",
       "    </tr>\n",
       "    <tr>\n",
       "      <th>37</th>\n",
       "      <td>negative</td>\n",
       "      <td>positive</td>\n",
       "    </tr>\n",
       "    <tr>\n",
       "      <th>15</th>\n",
       "      <td>positive</td>\n",
       "      <td>positive</td>\n",
       "    </tr>\n",
       "    <tr>\n",
       "      <th>62</th>\n",
       "      <td>positive</td>\n",
       "      <td>positive</td>\n",
       "    </tr>\n",
       "    <tr>\n",
       "      <th>43</th>\n",
       "      <td>positive</td>\n",
       "      <td>positive</td>\n",
       "    </tr>\n",
       "    <tr>\n",
       "      <th>65</th>\n",
       "      <td>positive</td>\n",
       "      <td>positive</td>\n",
       "    </tr>\n",
       "    <tr>\n",
       "      <th>61</th>\n",
       "      <td>negative</td>\n",
       "      <td>positive</td>\n",
       "    </tr>\n",
       "    <tr>\n",
       "      <th>13</th>\n",
       "      <td>negative</td>\n",
       "      <td>negative</td>\n",
       "    </tr>\n",
       "    <tr>\n",
       "      <th>20</th>\n",
       "      <td>negative</td>\n",
       "      <td>positive</td>\n",
       "    </tr>\n",
       "    <tr>\n",
       "      <th>77</th>\n",
       "      <td>positive</td>\n",
       "      <td>negative</td>\n",
       "    </tr>\n",
       "    <tr>\n",
       "      <th>12</th>\n",
       "      <td>positive</td>\n",
       "      <td>negative</td>\n",
       "    </tr>\n",
       "    <tr>\n",
       "      <th>36</th>\n",
       "      <td>positive</td>\n",
       "      <td>negative</td>\n",
       "    </tr>\n",
       "    <tr>\n",
       "      <th>64</th>\n",
       "      <td>positive</td>\n",
       "      <td>positive</td>\n",
       "    </tr>\n",
       "    <tr>\n",
       "      <th>11</th>\n",
       "      <td>negative</td>\n",
       "      <td>positive</td>\n",
       "    </tr>\n",
       "    <tr>\n",
       "      <th>27</th>\n",
       "      <td>positive</td>\n",
       "      <td>positive</td>\n",
       "    </tr>\n",
       "    <tr>\n",
       "      <th>2</th>\n",
       "      <td>negative</td>\n",
       "      <td>positive</td>\n",
       "    </tr>\n",
       "    <tr>\n",
       "      <th>17</th>\n",
       "      <td>negative</td>\n",
       "      <td>positive</td>\n",
       "    </tr>\n",
       "    <tr>\n",
       "      <th>52</th>\n",
       "      <td>positive</td>\n",
       "      <td>positive</td>\n",
       "    </tr>\n",
       "    <tr>\n",
       "      <th>5</th>\n",
       "      <td>negative</td>\n",
       "      <td>positive</td>\n",
       "    </tr>\n",
       "    <tr>\n",
       "      <th>26</th>\n",
       "      <td>negative</td>\n",
       "      <td>positive</td>\n",
       "    </tr>\n",
       "  </tbody>\n",
       "</table>\n",
       "</div>"
      ],
      "text/plain": [
       "   Real_target_test Predicted\n",
       "18         positive  positive\n",
       "22         negative  negative\n",
       "71         positive  positive\n",
       "58         negative  positive\n",
       "37         negative  positive\n",
       "15         positive  positive\n",
       "62         positive  positive\n",
       "43         positive  positive\n",
       "65         positive  positive\n",
       "61         negative  positive\n",
       "13         negative  negative\n",
       "20         negative  positive\n",
       "77         positive  negative\n",
       "12         positive  negative\n",
       "36         positive  negative\n",
       "64         positive  positive\n",
       "11         negative  positive\n",
       "27         positive  positive\n",
       "2          negative  positive\n",
       "17         negative  positive\n",
       "52         positive  positive\n",
       "5          negative  positive\n",
       "26         negative  positive"
      ]
     },
     "execution_count": 32,
     "metadata": {},
     "output_type": "execute_result"
    }
   ],
   "source": [
    "df_val = pd.DataFrame({'Real_target_val': y_val, 'Predicted': y_pred_val})\n",
    "df_test = pd.DataFrame({'Real_target_test': y_test, 'Predicted': y_pred_test})\n",
    "df_test\n",
    "#df_val"
   ]
  },
  {
   "cell_type": "markdown",
   "metadata": {},
   "source": [
    "## Let's grid search"
   ]
  },
  {
   "cell_type": "code",
   "execution_count": 25,
   "metadata": {},
   "outputs": [
    {
     "data": {
      "text/plain": [
       "GridSearchCV(estimator=LogisticRegression(multi_class='multinomial',\n",
       "                                          solver='saga'),\n",
       "             param_grid={'penalty': ['l1', 'l2']})"
      ]
     },
     "execution_count": 25,
     "metadata": {},
     "output_type": "execute_result"
    }
   ],
   "source": [
    "# gridsearch for logistic regression\n",
    "from sklearn.model_selection import GridSearchCV\n",
    "parameters = {\n",
    "    \"penalty\": [\"l1\", \"l2\"]\n",
    "}\n",
    "alg_ = LogisticRegression(\n",
    "    multi_class=\"multinomial\",\n",
    "    solver =\"saga\")\n",
    "clf = GridSearchCV(alg_, parameters)\n",
    "clf.fit(X_train, y_train)"
   ]
  },
  {
   "cell_type": "code",
   "execution_count": 26,
   "metadata": {},
   "outputs": [
    {
     "data": {
      "text/html": [
       "<div>\n",
       "<style scoped>\n",
       "    .dataframe tbody tr th:only-of-type {\n",
       "        vertical-align: middle;\n",
       "    }\n",
       "\n",
       "    .dataframe tbody tr th {\n",
       "        vertical-align: top;\n",
       "    }\n",
       "\n",
       "    .dataframe thead th {\n",
       "        text-align: right;\n",
       "    }\n",
       "</style>\n",
       "<table border=\"1\" class=\"dataframe\">\n",
       "  <thead>\n",
       "    <tr style=\"text-align: right;\">\n",
       "      <th></th>\n",
       "      <th>mean_fit_time</th>\n",
       "      <th>std_fit_time</th>\n",
       "      <th>mean_score_time</th>\n",
       "      <th>std_score_time</th>\n",
       "      <th>param_penalty</th>\n",
       "      <th>params</th>\n",
       "      <th>split0_test_score</th>\n",
       "      <th>split1_test_score</th>\n",
       "      <th>split2_test_score</th>\n",
       "      <th>split3_test_score</th>\n",
       "      <th>split4_test_score</th>\n",
       "      <th>mean_test_score</th>\n",
       "      <th>std_test_score</th>\n",
       "      <th>rank_test_score</th>\n",
       "    </tr>\n",
       "  </thead>\n",
       "  <tbody>\n",
       "    <tr>\n",
       "      <th>0</th>\n",
       "      <td>0.003421</td>\n",
       "      <td>0.002033</td>\n",
       "      <td>0.002002</td>\n",
       "      <td>0.002353</td>\n",
       "      <td>l1</td>\n",
       "      <td>{'penalty': 'l1'}</td>\n",
       "      <td>0.545455</td>\n",
       "      <td>0.5</td>\n",
       "      <td>0.5</td>\n",
       "      <td>0.6</td>\n",
       "      <td>0.6</td>\n",
       "      <td>0.549091</td>\n",
       "      <td>0.044758</td>\n",
       "      <td>2</td>\n",
       "    </tr>\n",
       "    <tr>\n",
       "      <th>1</th>\n",
       "      <td>0.000990</td>\n",
       "      <td>0.001250</td>\n",
       "      <td>0.000000</td>\n",
       "      <td>0.000000</td>\n",
       "      <td>l2</td>\n",
       "      <td>{'penalty': 'l2'}</td>\n",
       "      <td>0.545455</td>\n",
       "      <td>0.6</td>\n",
       "      <td>0.5</td>\n",
       "      <td>0.7</td>\n",
       "      <td>0.6</td>\n",
       "      <td>0.589091</td>\n",
       "      <td>0.066903</td>\n",
       "      <td>1</td>\n",
       "    </tr>\n",
       "  </tbody>\n",
       "</table>\n",
       "</div>"
      ],
      "text/plain": [
       "   mean_fit_time  std_fit_time  mean_score_time  std_score_time param_penalty  \\\n",
       "0       0.003421      0.002033         0.002002        0.002353            l1   \n",
       "1       0.000990      0.001250         0.000000        0.000000            l2   \n",
       "\n",
       "              params  split0_test_score  split1_test_score  split2_test_score  \\\n",
       "0  {'penalty': 'l1'}           0.545455                0.5                0.5   \n",
       "1  {'penalty': 'l2'}           0.545455                0.6                0.5   \n",
       "\n",
       "   split3_test_score  split4_test_score  mean_test_score  std_test_score  \\\n",
       "0                0.6                0.6         0.549091        0.044758   \n",
       "1                0.7                0.6         0.589091        0.066903   \n",
       "\n",
       "   rank_test_score  \n",
       "0                2  \n",
       "1                1  "
      ]
     },
     "execution_count": 26,
     "metadata": {},
     "output_type": "execute_result"
    }
   ],
   "source": [
    "pd.DataFrame.from_dict(clf.cv_results_)"
   ]
  },
  {
   "cell_type": "code",
   "execution_count": 27,
   "metadata": {},
   "outputs": [
    {
     "data": {
      "text/plain": [
       "{'penalty': 'l2'}"
      ]
     },
     "execution_count": 27,
     "metadata": {},
     "output_type": "execute_result"
    }
   ],
   "source": [
    "clf.best_params_"
   ]
  },
  {
   "cell_type": "code",
   "execution_count": null,
   "metadata": {},
   "outputs": [],
   "source": []
  },
  {
   "cell_type": "code",
   "execution_count": null,
   "metadata": {},
   "outputs": [],
   "source": []
  },
  {
   "cell_type": "code",
   "execution_count": null,
   "metadata": {},
   "outputs": [],
   "source": []
  },
  {
   "cell_type": "code",
   "execution_count": null,
   "metadata": {},
   "outputs": [],
   "source": []
  }
 ],
 "metadata": {
  "interpreter": {
   "hash": "34f39f720e63e3c8ee51ab4632740779fe08c6d079b7785f9bc1bcf8e6d87010"
  },
  "kernelspec": {
   "display_name": "Python 3",
   "language": "python",
   "name": "python3"
  },
  "language_info": {
   "codemirror_mode": {
    "name": "ipython",
    "version": 3
   },
   "file_extension": ".py",
   "mimetype": "text/x-python",
   "name": "python",
   "nbconvert_exporter": "python",
   "pygments_lexer": "ipython3",
   "version": "3.8.5"
  }
 },
 "nbformat": 4,
 "nbformat_minor": 4
}
