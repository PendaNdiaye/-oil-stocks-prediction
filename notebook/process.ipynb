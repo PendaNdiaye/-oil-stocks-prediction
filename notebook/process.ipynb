{
 "cells": [
  {
   "cell_type": "code",
   "execution_count": 62,
   "metadata": {},
   "outputs": [],
   "source": [
    "import pandas as pd"
   ]
  },
  {
   "cell_type": "code",
   "execution_count": 63,
   "metadata": {},
   "outputs": [
    {
     "data": {
      "text/html": [
       "<div>\n",
       "<style scoped>\n",
       "    .dataframe tbody tr th:only-of-type {\n",
       "        vertical-align: middle;\n",
       "    }\n",
       "\n",
       "    .dataframe tbody tr th {\n",
       "        vertical-align: top;\n",
       "    }\n",
       "\n",
       "    .dataframe thead th {\n",
       "        text-align: right;\n",
       "    }\n",
       "</style>\n",
       "<table border=\"1\" class=\"dataframe\">\n",
       "  <thead>\n",
       "    <tr style=\"text-align: right;\">\n",
       "      <th></th>\n",
       "      <th>0</th>\n",
       "      <th>1</th>\n",
       "    </tr>\n",
       "  </thead>\n",
       "  <tbody>\n",
       "    <tr>\n",
       "      <th>0</th>\n",
       "      <td>Les contrats à terme sur Gaz naturel ont augme...</td>\n",
       "      <td>Il y a 59 minutes</td>\n",
       "    </tr>\n",
       "    <tr>\n",
       "      <th>1</th>\n",
       "      <td>Soulagement général sur Evergrande, la Fed à s...</td>\n",
       "      <td>Il y a 2 heures</td>\n",
       "    </tr>\n",
       "    <tr>\n",
       "      <th>2</th>\n",
       "      <td>Les stocks de pétrole ont diminué de 3,48 mill...</td>\n",
       "      <td>Il y a 4 heures</td>\n",
       "    </tr>\n",
       "    <tr>\n",
       "      <th>3</th>\n",
       "      <td>Wall Street attendue en hausse, soulagement gé...</td>\n",
       "      <td>Il y a 7 heures</td>\n",
       "    </tr>\n",
       "    <tr>\n",
       "      <th>4</th>\n",
       "      <td>Du vert en Europe, soulagement sur Evergrande</td>\n",
       "      <td>Il y a 10 heures</td>\n",
       "    </tr>\n",
       "    <tr>\n",
       "      <th>5</th>\n",
       "      <td>Du vert en vue en Europe, soulagement sur Ever...</td>\n",
       "      <td>Il y a 12 heures</td>\n",
       "    </tr>\n",
       "    <tr>\n",
       "      <th>6</th>\n",
       "      <td>Les contrats à terme sur Pétrole Brut ont augm...</td>\n",
       "      <td>Il y a 15 heures</td>\n",
       "    </tr>\n",
       "    <tr>\n",
       "      <th>7</th>\n",
       "      <td>Les contrats à terme sur Pétrole Brut ont augm...</td>\n",
       "      <td>Il y a 23 heures</td>\n",
       "    </tr>\n",
       "    <tr>\n",
       "      <th>8</th>\n",
       "      <td>Les contrats à terme sur Gaz naturel ont recul...</td>\n",
       "      <td>21/09/2021</td>\n",
       "    </tr>\n",
       "    <tr>\n",
       "      <th>9</th>\n",
       "      <td>L'Europe finit en hausse, regain d'optimisme a...</td>\n",
       "      <td>21/09/2021</td>\n",
       "    </tr>\n",
       "  </tbody>\n",
       "</table>\n",
       "</div>"
      ],
      "text/plain": [
       "                                                   0                  1\n",
       "0  Les contrats à terme sur Gaz naturel ont augme...  Il y a 59 minutes\n",
       "1  Soulagement général sur Evergrande, la Fed à s...    Il y a 2 heures\n",
       "2  Les stocks de pétrole ont diminué de 3,48 mill...    Il y a 4 heures\n",
       "3  Wall Street attendue en hausse, soulagement gé...    Il y a 7 heures\n",
       "4      Du vert en Europe, soulagement sur Evergrande   Il y a 10 heures\n",
       "5  Du vert en vue en Europe, soulagement sur Ever...   Il y a 12 heures\n",
       "6  Les contrats à terme sur Pétrole Brut ont augm...   Il y a 15 heures\n",
       "7  Les contrats à terme sur Pétrole Brut ont augm...   Il y a 23 heures\n",
       "8  Les contrats à terme sur Gaz naturel ont recul...         21/09/2021\n",
       "9  L'Europe finit en hausse, regain d'optimisme a...         21/09/2021"
      ]
     },
     "execution_count": 63,
     "metadata": {},
     "output_type": "execute_result"
    }
   ],
   "source": [
    "import pandas as pd\n",
    "df = pd.read_csv(r'C:\\Users\\HP 1030 G2\\Desktop\\Cours DIT\\El Hadj\\oil-stocks-prediction\\data\\articles\\output.csv',sep='|', header=None, encoding='latin-1')\n",
    "df.head(10)"
   ]
  },
  {
   "cell_type": "code",
   "execution_count": 45,
   "metadata": {},
   "outputs": [
    {
     "data": {
      "text/plain": [
       "(10, 2)"
      ]
     },
     "execution_count": 45,
     "metadata": {},
     "output_type": "execute_result"
    }
   ],
   "source": [
    "df.shape"
   ]
  },
  {
   "cell_type": "code",
   "execution_count": 46,
   "metadata": {},
   "outputs": [
    {
     "data": {
      "text/plain": [
       "0    0\n",
       "1    0\n",
       "dtype: int64"
      ]
     },
     "execution_count": 46,
     "metadata": {},
     "output_type": "execute_result"
    }
   ],
   "source": [
    "df.isnull().sum()"
   ]
  },
  {
   "cell_type": "code",
   "execution_count": 47,
   "metadata": {},
   "outputs": [
    {
     "name": "stdout",
     "output_type": "stream",
     "text": [
      "<class 'pandas.core.frame.DataFrame'>\n",
      "RangeIndex: 10 entries, 0 to 9\n",
      "Data columns (total 2 columns):\n",
      " #   Column  Non-Null Count  Dtype \n",
      "---  ------  --------------  ----- \n",
      " 0   0       10 non-null     object\n",
      " 1   1       10 non-null     object\n",
      "dtypes: object(2)\n",
      "memory usage: 288.0+ bytes\n"
     ]
    }
   ],
   "source": [
    "df.info()"
   ]
  },
  {
   "cell_type": "code",
   "execution_count": 48,
   "metadata": {},
   "outputs": [
    {
     "data": {
      "text/html": [
       "<div>\n",
       "<style scoped>\n",
       "    .dataframe tbody tr th:only-of-type {\n",
       "        vertical-align: middle;\n",
       "    }\n",
       "\n",
       "    .dataframe tbody tr th {\n",
       "        vertical-align: top;\n",
       "    }\n",
       "\n",
       "    .dataframe thead th {\n",
       "        text-align: right;\n",
       "    }\n",
       "</style>\n",
       "<table border=\"1\" class=\"dataframe\">\n",
       "  <thead>\n",
       "    <tr style=\"text-align: right;\">\n",
       "      <th></th>\n",
       "      <th>0</th>\n",
       "      <th>1</th>\n",
       "    </tr>\n",
       "  </thead>\n",
       "  <tbody>\n",
       "    <tr>\n",
       "      <th>count</th>\n",
       "      <td>10</td>\n",
       "      <td>10</td>\n",
       "    </tr>\n",
       "    <tr>\n",
       "      <th>unique</th>\n",
       "      <td>10</td>\n",
       "      <td>9</td>\n",
       "    </tr>\n",
       "    <tr>\n",
       "      <th>top</th>\n",
       "      <td>Wall Street ouvre dans le vert, la menace Ever...</td>\n",
       "      <td>20/09/2021</td>\n",
       "    </tr>\n",
       "    <tr>\n",
       "      <th>freq</th>\n",
       "      <td>1</td>\n",
       "      <td>2</td>\n",
       "    </tr>\n",
       "  </tbody>\n",
       "</table>\n",
       "</div>"
      ],
      "text/plain": [
       "                                                        0           1\n",
       "count                                                  10          10\n",
       "unique                                                 10           9\n",
       "top     Wall Street ouvre dans le vert, la menace Ever...  20/09/2021\n",
       "freq                                                    1           2"
      ]
     },
     "execution_count": 48,
     "metadata": {},
     "output_type": "execute_result"
    }
   ],
   "source": [
    "df.describe(include=\"all\")"
   ]
  },
  {
   "cell_type": "code",
   "execution_count": 49,
   "metadata": {},
   "outputs": [
    {
     "data": {
      "text/plain": [
       "0    10\n",
       "1     9\n",
       "dtype: int64"
      ]
     },
     "execution_count": 49,
     "metadata": {},
     "output_type": "execute_result"
    }
   ],
   "source": [
    "df.nunique()"
   ]
  },
  {
   "cell_type": "code",
   "execution_count": 51,
   "metadata": {},
   "outputs": [
    {
     "data": {
      "text/plain": [
       "array(['Les contrats à terme sur Pétrole Brut ont augmenté durant la séance américaine',\n",
       "       'Les contrats à terme sur Gaz naturel ont reculé durant la séance américaine',\n",
       "       \"L'Europe finit en hausse, regain d'optimisme après Evergrande\",\n",
       "       'Wall Street ouvre dans le vert, la menace Evergrande jugée limitée',\n",
       "       'Rebond en vue à Wall Street comme en Europe, la peur reflue',\n",
       "       'Le pétrolier Shell quitte le Texas en vendant tous ses actifs à ConocoPhillips',\n",
       "       'Les actions européennes rebondissent, UMG réussit son entrée',\n",
       "       'Les contrats à terme sur Pétrole Brut ont augmenté durant la séance en Asie',\n",
       "       'Les contrats à terme sur Pétrole Brut ont reculé durant la séance américaine',\n",
       "       'Les contrats à terme sur Gaz naturel ont augmenté durant la séance américaine'],\n",
       "      dtype=object)"
      ]
     },
     "execution_count": 51,
     "metadata": {},
     "output_type": "execute_result"
    }
   ],
   "source": [
    "df[0].values"
   ]
  },
  {
   "cell_type": "code",
   "execution_count": 52,
   "metadata": {},
   "outputs": [
    {
     "data": {
      "text/plain": [
       "array(['Les contrats à terme sur Pétrole Brut ont augmenté durant la séance américaine',\n",
       "       'Les contrats à terme sur Gaz naturel ont reculé durant la séance américaine',\n",
       "       \"L'Europe finit en hausse, regain d'optimisme après Evergrande\",\n",
       "       'Wall Street ouvre dans le vert, la menace Evergrande jugée limitée',\n",
       "       'Rebond en vue à Wall Street comme en Europe, la peur reflue'],\n",
       "      dtype=object)"
      ]
     },
     "execution_count": 52,
     "metadata": {},
     "output_type": "execute_result"
    }
   ],
   "source": [
    "df[0].values[:5]"
   ]
  },
  {
   "cell_type": "code",
   "execution_count": 65,
   "metadata": {},
   "outputs": [
    {
     "data": {
      "text/plain": [
       "['Les contrats à terme sur Gaz naturel ont reculé durant la séance américaine',\n",
       " \"L'Europe finit en hausse, regain d'optimisme après Evergrande\"]"
      ]
     },
     "execution_count": 65,
     "metadata": {},
     "output_type": "execute_result"
    }
   ],
   "source": [
    "df.groupby(1)[0].apply(list)[0]"
   ]
  },
  {
   "cell_type": "code",
   "execution_count": 72,
   "metadata": {},
   "outputs": [],
   "source": [
    "import spacy\n",
    "#!python -m spacy download fr_core_news_sm\n",
    "nlp_fr = spacy.load('fr_core_news_sm')\n",
    "stopwords = spacy.lang.fr.stop_words.STOP_WORDS\n",
    "\n",
    "def process_data(text):\n",
    "    doc = nlp_fr(text)\n",
    "    return [word.lemma_.lower() for word in doc if word.is_alpha and word.text.lower() not in stopwords]"
   ]
  },
  {
   "cell_type": "code",
   "execution_count": 73,
   "metadata": {},
   "outputs": [],
   "source": [
    "from sklearn.feature_extraction.text import TfidfVectorizer\n",
    "from sklearn.metrics.pairwise import cosine_similarity"
   ]
  },
  {
   "cell_type": "code",
   "execution_count": 74,
   "metadata": {},
   "outputs": [],
   "source": [
    "df['text'] = df[0] + ' ' + df[1]\n",
    "df['stop'] = df['text'].apply(process_data)\n",
    "\n",
    "# Instantiate the TF-IDF vectorizer\n",
    "vectorizer = TfidfVectorizer(lowercase=False, analyzer=lambda x: x)\n",
    "# Compute the TF-IDF\n",
    "tf_idf = vectorizer.fit_transform(df['stop']).toarray()"
   ]
  },
  {
   "cell_type": "code",
   "execution_count": 75,
   "metadata": {},
   "outputs": [
    {
     "data": {
      "text/html": [
       "<div>\n",
       "<style scoped>\n",
       "    .dataframe tbody tr th:only-of-type {\n",
       "        vertical-align: middle;\n",
       "    }\n",
       "\n",
       "    .dataframe tbody tr th {\n",
       "        vertical-align: top;\n",
       "    }\n",
       "\n",
       "    .dataframe thead th {\n",
       "        text-align: right;\n",
       "    }\n",
       "</style>\n",
       "<table border=\"1\" class=\"dataframe\">\n",
       "  <thead>\n",
       "    <tr style=\"text-align: right;\">\n",
       "      <th></th>\n",
       "      <th>0</th>\n",
       "      <th>1</th>\n",
       "      <th>text</th>\n",
       "      <th>stop</th>\n",
       "    </tr>\n",
       "  </thead>\n",
       "  <tbody>\n",
       "    <tr>\n",
       "      <th>0</th>\n",
       "      <td>Les contrats à terme sur Gaz naturel ont augme...</td>\n",
       "      <td>Il y a 59 minutes</td>\n",
       "      <td>Les contrats à terme sur Gaz naturel ont augme...</td>\n",
       "      <td>[contrat, terme, gaz, naturel, augmenter, séan...</td>\n",
       "    </tr>\n",
       "    <tr>\n",
       "      <th>1</th>\n",
       "      <td>Soulagement général sur Evergrande, la Fed à s...</td>\n",
       "      <td>Il y a 2 heures</td>\n",
       "      <td>Soulagement général sur Evergrande, la Fed à s...</td>\n",
       "      <td>[soulagement, général, evergrande, fed, heure]</td>\n",
       "    </tr>\n",
       "    <tr>\n",
       "      <th>2</th>\n",
       "      <td>Les stocks de pétrole ont diminué de 3,48 mill...</td>\n",
       "      <td>Il y a 4 heures</td>\n",
       "      <td>Les stocks de pétrole ont diminué de 3,48 mill...</td>\n",
       "      <td>[stock, pétrole, diminuer, million, baril, sem...</td>\n",
       "    </tr>\n",
       "    <tr>\n",
       "      <th>3</th>\n",
       "      <td>Wall Street attendue en hausse, soulagement gé...</td>\n",
       "      <td>Il y a 7 heures</td>\n",
       "      <td>Wall Street attendue en hausse, soulagement gé...</td>\n",
       "      <td>[wall, street, attendre, hausse, soulagement, ...</td>\n",
       "    </tr>\n",
       "    <tr>\n",
       "      <th>4</th>\n",
       "      <td>Du vert en Europe, soulagement sur Evergrande</td>\n",
       "      <td>Il y a 10 heures</td>\n",
       "      <td>Du vert en Europe, soulagement sur Evergrande ...</td>\n",
       "      <td>[vert, europe, soulagement, evergrande, heure]</td>\n",
       "    </tr>\n",
       "  </tbody>\n",
       "</table>\n",
       "</div>"
      ],
      "text/plain": [
       "                                                   0                  1  \\\n",
       "0  Les contrats à terme sur Gaz naturel ont augme...  Il y a 59 minutes   \n",
       "1  Soulagement général sur Evergrande, la Fed à s...    Il y a 2 heures   \n",
       "2  Les stocks de pétrole ont diminué de 3,48 mill...    Il y a 4 heures   \n",
       "3  Wall Street attendue en hausse, soulagement gé...    Il y a 7 heures   \n",
       "4      Du vert en Europe, soulagement sur Evergrande   Il y a 10 heures   \n",
       "\n",
       "                                                text  \\\n",
       "0  Les contrats à terme sur Gaz naturel ont augme...   \n",
       "1  Soulagement général sur Evergrande, la Fed à s...   \n",
       "2  Les stocks de pétrole ont diminué de 3,48 mill...   \n",
       "3  Wall Street attendue en hausse, soulagement gé...   \n",
       "4  Du vert en Europe, soulagement sur Evergrande ...   \n",
       "\n",
       "                                                stop  \n",
       "0  [contrat, terme, gaz, naturel, augmenter, séan...  \n",
       "1     [soulagement, général, evergrande, fed, heure]  \n",
       "2  [stock, pétrole, diminuer, million, baril, sem...  \n",
       "3  [wall, street, attendre, hausse, soulagement, ...  \n",
       "4     [vert, europe, soulagement, evergrande, heure]  "
      ]
     },
     "execution_count": 75,
     "metadata": {},
     "output_type": "execute_result"
    }
   ],
   "source": [
    "df.head()"
   ]
  },
  {
   "cell_type": "code",
   "execution_count": 77,
   "metadata": {},
   "outputs": [
    {
     "data": {
      "text/html": [
       "<div>\n",
       "<style scoped>\n",
       "    .dataframe tbody tr th:only-of-type {\n",
       "        vertical-align: middle;\n",
       "    }\n",
       "\n",
       "    .dataframe tbody tr th {\n",
       "        vertical-align: top;\n",
       "    }\n",
       "\n",
       "    .dataframe thead th {\n",
       "        text-align: right;\n",
       "    }\n",
       "</style>\n",
       "<table border=\"1\" class=\"dataframe\">\n",
       "  <thead>\n",
       "    <tr style=\"text-align: right;\">\n",
       "      <th></th>\n",
       "      <th>américain</th>\n",
       "      <th>asie</th>\n",
       "      <th>attendre</th>\n",
       "      <th>augmenter</th>\n",
       "      <th>baril</th>\n",
       "      <th>brut</th>\n",
       "      <th>contrat</th>\n",
       "      <th>dernier</th>\n",
       "      <th>diminuer</th>\n",
       "      <th>eia</th>\n",
       "      <th>...</th>\n",
       "      <th>regain</th>\n",
       "      <th>semaine</th>\n",
       "      <th>soulagement</th>\n",
       "      <th>stock</th>\n",
       "      <th>street</th>\n",
       "      <th>séance</th>\n",
       "      <th>terme</th>\n",
       "      <th>vert</th>\n",
       "      <th>vue</th>\n",
       "      <th>wall</th>\n",
       "    </tr>\n",
       "  </thead>\n",
       "  <tbody>\n",
       "    <tr>\n",
       "      <th>0</th>\n",
       "      <td>0.33725</td>\n",
       "      <td>0.0</td>\n",
       "      <td>0.000000</td>\n",
       "      <td>0.33725</td>\n",
       "      <td>0.00000</td>\n",
       "      <td>0.0</td>\n",
       "      <td>0.299839</td>\n",
       "      <td>0.00000</td>\n",
       "      <td>0.00000</td>\n",
       "      <td>0.00000</td>\n",
       "      <td>...</td>\n",
       "      <td>0.0</td>\n",
       "      <td>0.00000</td>\n",
       "      <td>0.000000</td>\n",
       "      <td>0.00000</td>\n",
       "      <td>0.000000</td>\n",
       "      <td>0.299839</td>\n",
       "      <td>0.299839</td>\n",
       "      <td>0.000000</td>\n",
       "      <td>0.0</td>\n",
       "      <td>0.000000</td>\n",
       "    </tr>\n",
       "    <tr>\n",
       "      <th>1</th>\n",
       "      <td>0.00000</td>\n",
       "      <td>0.0</td>\n",
       "      <td>0.000000</td>\n",
       "      <td>0.00000</td>\n",
       "      <td>0.00000</td>\n",
       "      <td>0.0</td>\n",
       "      <td>0.000000</td>\n",
       "      <td>0.00000</td>\n",
       "      <td>0.00000</td>\n",
       "      <td>0.00000</td>\n",
       "      <td>...</td>\n",
       "      <td>0.0</td>\n",
       "      <td>0.00000</td>\n",
       "      <td>0.420494</td>\n",
       "      <td>0.00000</td>\n",
       "      <td>0.000000</td>\n",
       "      <td>0.000000</td>\n",
       "      <td>0.000000</td>\n",
       "      <td>0.000000</td>\n",
       "      <td>0.0</td>\n",
       "      <td>0.000000</td>\n",
       "    </tr>\n",
       "    <tr>\n",
       "      <th>2</th>\n",
       "      <td>0.00000</td>\n",
       "      <td>0.0</td>\n",
       "      <td>0.000000</td>\n",
       "      <td>0.00000</td>\n",
       "      <td>0.35827</td>\n",
       "      <td>0.0</td>\n",
       "      <td>0.000000</td>\n",
       "      <td>0.35827</td>\n",
       "      <td>0.35827</td>\n",
       "      <td>0.35827</td>\n",
       "      <td>...</td>\n",
       "      <td>0.0</td>\n",
       "      <td>0.35827</td>\n",
       "      <td>0.000000</td>\n",
       "      <td>0.35827</td>\n",
       "      <td>0.000000</td>\n",
       "      <td>0.000000</td>\n",
       "      <td>0.000000</td>\n",
       "      <td>0.000000</td>\n",
       "      <td>0.0</td>\n",
       "      <td>0.000000</td>\n",
       "    </tr>\n",
       "    <tr>\n",
       "      <th>3</th>\n",
       "      <td>0.00000</td>\n",
       "      <td>0.0</td>\n",
       "      <td>0.427461</td>\n",
       "      <td>0.00000</td>\n",
       "      <td>0.00000</td>\n",
       "      <td>0.0</td>\n",
       "      <td>0.000000</td>\n",
       "      <td>0.00000</td>\n",
       "      <td>0.00000</td>\n",
       "      <td>0.00000</td>\n",
       "      <td>...</td>\n",
       "      <td>0.0</td>\n",
       "      <td>0.00000</td>\n",
       "      <td>0.282649</td>\n",
       "      <td>0.00000</td>\n",
       "      <td>0.427461</td>\n",
       "      <td>0.000000</td>\n",
       "      <td>0.000000</td>\n",
       "      <td>0.000000</td>\n",
       "      <td>0.0</td>\n",
       "      <td>0.427461</td>\n",
       "    </tr>\n",
       "    <tr>\n",
       "      <th>4</th>\n",
       "      <td>0.00000</td>\n",
       "      <td>0.0</td>\n",
       "      <td>0.000000</td>\n",
       "      <td>0.00000</td>\n",
       "      <td>0.00000</td>\n",
       "      <td>0.0</td>\n",
       "      <td>0.000000</td>\n",
       "      <td>0.00000</td>\n",
       "      <td>0.00000</td>\n",
       "      <td>0.00000</td>\n",
       "      <td>...</td>\n",
       "      <td>0.0</td>\n",
       "      <td>0.00000</td>\n",
       "      <td>0.435693</td>\n",
       "      <td>0.00000</td>\n",
       "      <td>0.000000</td>\n",
       "      <td>0.000000</td>\n",
       "      <td>0.000000</td>\n",
       "      <td>0.560138</td>\n",
       "      <td>0.0</td>\n",
       "      <td>0.000000</td>\n",
       "    </tr>\n",
       "  </tbody>\n",
       "</table>\n",
       "<p>5 rows × 34 columns</p>\n",
       "</div>"
      ],
      "text/plain": [
       "   américain  asie  attendre  augmenter    baril  brut   contrat  dernier  \\\n",
       "0    0.33725   0.0  0.000000    0.33725  0.00000   0.0  0.299839  0.00000   \n",
       "1    0.00000   0.0  0.000000    0.00000  0.00000   0.0  0.000000  0.00000   \n",
       "2    0.00000   0.0  0.000000    0.00000  0.35827   0.0  0.000000  0.35827   \n",
       "3    0.00000   0.0  0.427461    0.00000  0.00000   0.0  0.000000  0.00000   \n",
       "4    0.00000   0.0  0.000000    0.00000  0.00000   0.0  0.000000  0.00000   \n",
       "\n",
       "   diminuer      eia  ...  regain  semaine  soulagement    stock    street  \\\n",
       "0   0.00000  0.00000  ...     0.0  0.00000     0.000000  0.00000  0.000000   \n",
       "1   0.00000  0.00000  ...     0.0  0.00000     0.420494  0.00000  0.000000   \n",
       "2   0.35827  0.35827  ...     0.0  0.35827     0.000000  0.35827  0.000000   \n",
       "3   0.00000  0.00000  ...     0.0  0.00000     0.282649  0.00000  0.427461   \n",
       "4   0.00000  0.00000  ...     0.0  0.00000     0.435693  0.00000  0.000000   \n",
       "\n",
       "     séance     terme      vert  vue      wall  \n",
       "0  0.299839  0.299839  0.000000  0.0  0.000000  \n",
       "1  0.000000  0.000000  0.000000  0.0  0.000000  \n",
       "2  0.000000  0.000000  0.000000  0.0  0.000000  \n",
       "3  0.000000  0.000000  0.000000  0.0  0.427461  \n",
       "4  0.000000  0.000000  0.560138  0.0  0.000000  \n",
       "\n",
       "[5 rows x 34 columns]"
      ]
     },
     "execution_count": 77,
     "metadata": {},
     "output_type": "execute_result"
    }
   ],
   "source": [
    "df1=pd.DataFrame(data=tf_idf,columns=vectorizer.get_feature_names())\n",
    "df1.head()"
   ]
  },
  {
   "cell_type": "code",
   "execution_count": 81,
   "metadata": {},
   "outputs": [],
   "source": [
    "from textblob import TextBlob"
   ]
  },
  {
   "cell_type": "code",
   "execution_count": 82,
   "metadata": {},
   "outputs": [],
   "source": [
    "#TextBlob(df['stop']).sentiment"
   ]
  },
  {
   "cell_type": "code",
   "execution_count": 84,
   "metadata": {},
   "outputs": [],
   "source": [
    "from lexrank import LexRank, STOPWORDS"
   ]
  },
  {
   "cell_type": "code",
   "execution_count": 85,
   "metadata": {},
   "outputs": [
    {
     "data": {
      "text/plain": [
       "pset(['près', 'aie', 'quand', 'cher', 'desquelles', 'le', 'là', 'dessus', 'diverse', 'siens', 'maint', 'ès', 'elle', 'd', 'celle-ci', 'jusque', 'tels', 'z', 'ouf', 'eu', 'trop', 'quelle', 'vingt', 'ça', 'chers', 'vôtre', 'celui', 'suivant', 'non', 'hue', 'qu', 'quelconque', 'environ', 'pourquoi', 'laquelle', 'hors', 'car', 'encore', 'a', 'tu', 'dring', 'mille', 'paf', 'quant-à-soi', 'ces', 'chut', 'hou', 'trente', 'chère', 'leurs', 'devra', 'las', 'faisaient', 'abord', 'etant', 'parmi', 'es', 'selon', 'avait', 'oh', 'tenant', 'aujourd', 'h', 'différente', 'cinq', 'g', 'derrière', 'votre', 'telle', 'holà', 'plusieurs', 'ceux', 'nombreuses', 'être', 'leur', 'onze', 'au', 'on', 'sa', 'm', 'septième', 'tac', 'six', 'devant', 'fais', 'sans', 'desquels', 'hui', 'trois', 'ni', 'bigre', 'onzième', 'dire', 'hurrah', 'celles-ci', 'q', 'mes', 'moi-même', 'se', 'c', 'plouf', 'est', 'il', 'beaucoup', 'lui-même', 'debout', 'vos', 'étaient', 'chez', 'lorsque', 'sous', 'combien', 'de', 'certaines', 'hop', 'quelque', 'peut', 'sixième', 'nous-mêmes', 'nôtre', 'malgré', 'celui-là', 'quinze', 'tsouin', 'tout', 'hélas', 'effet', 'k', 'pendant', 'qui', 'tous', 'vas', 'quatre-vingt', 'cent', 'jusqu', 'auquel', 'cela', 'certes', 'vers', 'vont', 'aujourdhui', 'lequel', 'chères', 'premier', 'sacrebleu', 'delà', 'dans', 'duquel', 'lès', 'quoique', 'sienne', 'clic', 'floc', 'ho', 'vif', 'que', 'allo', 'avoir', 'troisièmement', 'celle', 'cet', 'vé', 'ceux-là', 'hé', 'un', 'te', 'ne', 'ollé', 'pas', 'bien', 'pff', 'cinquante', 'particulièrement', 'celles', 'na', 'notre', 'les', 'et', 'même', 'dessous', 'passé', 'partant', 'olé', 'soixante', 'cependant', 'aucun', 'auxquelles', 'huit', 'aura', 'toi', 'dix-sept', 'faisant', 'nombreux', 'boum', 'après', 'troisième', 'proche', 'particulière', 'peux', 'mon', 'vlan', 'touchant', 'b', 'quiconque', 'chaque', 'eux-mêmes', 'ainsi', 'r', 'huitième', 'aussi', 'ceux-ci', 'p', 'quanta', 'zut', 'etc', 'nos', 'brrr', 'seize', 'dix-neuf', 'donc', 'stop', 'cinquantième', 'ai', 'peu', 'seront', 'pan', 'eh', 'mais', 'ont', 'pour', 'était', 'en', 'euh', 'dedans', 'da', 'étais', 'attendu', 'lui', 'désormais', 'w', 'une', 'été', 'ils', 'importe', 'auront', 'miennes', 'n', 'dixième', 'je', 'moyennant', 'me', 'toi-même', 'vives', 'vivat', 'sur', 'ha', 'soi-même', 'quatrième', 'hormis', 'des', 'quoi', 'certains', 'eux', 'vais', 'mince', 'plutôt', 'certain', 'fi', 'voici', 'cinquième', 'à', 'toute', 'va', 'allons', 'certaine', 'hum', 'dix', 'e', 'chiche', 'douze', 'aucune', 'puisque', 'x', 'té', 'comment', 'plein', 'entre', 'ma', 'merci', 'tic', 'vifs', 'moi', 'quel', 'deuxième', 'uns', 'o', 'celle-là', 'cette', 'ah', 'diverses', 'particulier', 'i', 'etre', 'sien', 'deuxièmement', 'font', 'sapristi', 'gens', 'bah', 'contre', 'quant', 'voilà', 'façon', 'doit', 'y', 'mêmes', 'soi', 'cinquantaine', 'soit', 'du', 'comme', 'unes', 'tel', 'depuis', 'tienne', 'ayant', 'quelles', 'houp', 'deux', 'elles', 'vive', 'toujours', 'très', 'quarante', 'dehors', 'vous-mêmes', 'tien', 't', 'ta', 'sauf', 'où', 'étant', 'toc', 'miens', 'tant', 'ton', 'pif', 'afin', 'peuvent', 'psitt', 'neuf', 'toutes', 'dès', 'ouste', 'nous', 'l', 'ô', 'nul', 'aux', 'clac', 'excepté', 'divers', 'première', 'ou', 'chacun', 'la', 'vous', 'neuvième', 'assez', 'pfut', 'suis', 'outre', 'ceci', 'si', 'concernant', 'tes', 'avaient', 'revoici', 'vu', 'ouias', 'premièrement', 'quatre', 'ses', 'dont', 'crac', 'u', 'envers', 'j', 'sept', 'celui-ci', 'hem', 'ci', 'ore', 'hep', 'néanmoins', 'différents', 'treize', 'pfft', 'siennes', 'quatrièmement', 'sera', 'quels', 'moins', 'dix-huit', 'devers', 'couic', 'nôtres', 'â', 'via', 'tiens', 'allô', 'mienne', 'personne', 'compris', 'par', 'lesquelles', 'autres', 'autre', 'celles-là', 'mien', 'ce', 'pouah', 'son', 'bravo', 'plus', 'hi', 'tellement', 'quatorze', 'feront', 'vôtres', 'avant', 's', 'hein', 'avec', 'oust', 'sont', 'sinon', 'rien', 'tsoin', 'v', 'quelquun', 'elle-même', 'douzième', 'tiennes', 'doivent', 'ohé', 'fait', 'surtout', 'lesquels', 'f', 'auxquels', 'allaient', 'différent', 'quelques', 'différentes', 'flac', 'durant', 'revoilà', 'longtemps', 'telles', 'elles-mêmes', 'avais'])"
      ]
     },
     "execution_count": 85,
     "metadata": {},
     "output_type": "execute_result"
    }
   ],
   "source": [
    "stopwords = STOPWORDS['fr']\n",
    "stopwords"
   ]
  },
  {
   "cell_type": "code",
   "execution_count": 87,
   "metadata": {},
   "outputs": [],
   "source": [
    "lxr = LexRank(df['stop'], stopwords=stopwords)"
   ]
  },
  {
   "cell_type": "code",
   "execution_count": 91,
   "metadata": {},
   "outputs": [
    {
     "data": {
      "text/plain": [
       "['Les contrats à terme sur Pétrole Brut ont augmenté durant la séance américaine',\n",
       " 'Les contrats à terme sur Gaz naturel ont augmenté durant la séance américaine',\n",
       " \"L'Europe finit en hausse, regain d'optimisme après Evergrande\"]"
      ]
     },
     "execution_count": 91,
     "metadata": {},
     "output_type": "execute_result"
    }
   ],
   "source": [
    "summary = lxr.get_summary(df[0], summary_size=3, threshold=.5)\n",
    "summary"
   ]
  }
 ],
 "metadata": {
  "kernelspec": {
   "display_name": "Python 3",
   "language": "python",
   "name": "python3"
  },
  "language_info": {
   "codemirror_mode": {
    "name": "ipython",
    "version": 3
   },
   "file_extension": ".py",
   "mimetype": "text/x-python",
   "name": "python",
   "nbconvert_exporter": "python",
   "pygments_lexer": "ipython3",
   "version": "3.8.5"
  }
 },
 "nbformat": 4,
 "nbformat_minor": 4
}
