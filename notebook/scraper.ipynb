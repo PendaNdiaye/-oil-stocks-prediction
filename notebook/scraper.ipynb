{
 "cells": [
  {
   "cell_type": "code",
   "execution_count": 13,
   "id": "7639d897",
   "metadata": {},
   "outputs": [],
   "source": [
    "import sys\n",
    "import os\n",
    "sys.path.append(os.path.dirname(os.path.abspath('')))\n",
    "sys.path\n",
    "from bot.bot import scrape_iterate, get_urls, BASE_URL\n",
    "from bot.register import register_news"
   ]
  },
  {
   "cell_type": "code",
   "execution_count": null,
   "id": "ed46de5a",
   "metadata": {},
   "outputs": [],
   "source": [
    "urls = get_urls(base_url=BASE_URL, pagination=2)\n",
    "titles, dates = scrape_iterate(urls)\n",
    "register_news(titles, dates, file_path=FILE_PATH)"
   ]
  },
  {
   "cell_type": "code",
   "execution_count": null,
   "id": "1c07c6d6",
   "metadata": {},
   "outputs": [],
   "source": []
  }
 ],
 "metadata": {
  "kernelspec": {
   "display_name": "Python 3",
   "language": "python",
   "name": "python3"
  },
  "language_info": {
   "codemirror_mode": {
    "name": "ipython",
    "version": 3
   },
   "file_extension": ".py",
   "mimetype": "text/x-python",
   "name": "python",
   "nbconvert_exporter": "python",
   "pygments_lexer": "ipython3",
   "version": "3.8.8"
  }
 },
 "nbformat": 4,
 "nbformat_minor": 5
}
