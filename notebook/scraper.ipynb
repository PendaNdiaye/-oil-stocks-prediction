{
 "cells": [
  {
   "cell_type": "code",
   "execution_count": 14,
   "metadata": {},
   "outputs": [
    {
     "name": "stdout",
     "output_type": "stream",
     "text": [
      "['C:\\\\Users\\\\HP 1030 G2\\\\Desktop\\\\Cours DIT\\\\El Hadj\\\\oil-stocks-prediction\\\\notebook', 'C:\\\\Users\\\\HP 1030 G2\\\\anaconda3\\\\python38.zip', 'C:\\\\Users\\\\HP 1030 G2\\\\anaconda3\\\\DLLs', 'C:\\\\Users\\\\HP 1030 G2\\\\anaconda3\\\\lib', 'C:\\\\Users\\\\HP 1030 G2\\\\anaconda3', '', 'C:\\\\Users\\\\HP 1030 G2\\\\anaconda3\\\\lib\\\\site-packages', 'C:\\\\Users\\\\HP 1030 G2\\\\anaconda3\\\\lib\\\\site-packages\\\\win32', 'C:\\\\Users\\\\HP 1030 G2\\\\anaconda3\\\\lib\\\\site-packages\\\\win32\\\\lib', 'C:\\\\Users\\\\HP 1030 G2\\\\anaconda3\\\\lib\\\\site-packages\\\\Pythonwin', 'C:\\\\Users\\\\HP 1030 G2\\\\anaconda3\\\\lib\\\\site-packages\\\\IPython\\\\extensions', 'C:\\\\Users\\\\HP 1030 G2\\\\.ipython', 'C:\\\\Users\\\\HP 1030 G2\\\\Desktop\\\\Cours DIT\\\\El Hadj\\\\oil-stocks-predictionscraper', 'C:\\\\Users\\\\HP 1030 G2\\\\Desktop\\\\Cours DIT\\\\El Hadj\\\\oil-stocks-predictionscraper', 'C:\\\\Users\\\\HP 1030 G2\\\\Desktop\\\\Cours DIT\\\\El Hadj\\\\oil-stocks-predictionscraper', 'C:\\\\Users\\\\HP 1030 G2\\\\Desktop\\\\Cours DIT\\\\El Hadj\\\\oil-stocks-prediction scraper', 'C:\\\\Users\\\\HP 1030 G2\\\\Desktop\\\\Cours DIT\\\\El Hadj\\\\oil-stocks-prediction bot', 'C:\\\\Users\\\\HP 1030 G2\\\\Desktop\\\\Cours DIT\\\\El Hadj\\\\oil-stocks-prediction bot', 'C:\\\\Users\\\\HP 1030 G2\\\\Desktop\\\\Cours DIT\\\\El Hadj\\\\oil-stocks-prediction bot', 'C:\\\\Users\\\\HP 1030 G2\\\\Desktop\\\\Cours DIT\\\\El Hadj\\\\oil-stocks-prediction bot', 'C:\\\\Users\\\\HP 1030 G2\\\\Desktop\\\\Cours DIT\\\\El Hadj\\\\oil-stocks-prediction bot', 'C:\\\\Users\\\\HP 1030 G2\\\\Desktop\\\\Cours DIT\\\\El Hadj\\\\oil-stocks-prediction bot']\n"
     ]
    }
   ],
   "source": [
    "import sys\n",
    "import os\n",
    "#REPO_DIR = os.path.dirname(os.path.abspath(''))\n",
    "#BASE_URL = \"https://fr.investing.com/commodities/crude-oil-news\"\n",
    "#DATA_DIR = os.path.join(REPO_DIR, \"data/\")\n",
    "\n",
    "#FILE_PATH = os.path.join(DATA_DIR, \"articles/output.csv\")\n",
    "\n",
    "module_path = os.path.abspath(os.path.join('..'))\n",
    "if module_path not in sys.path:\n",
    "    sys.path.append(module_path+\" bot\")\n",
    "\n",
    "#import bot\n",
    "print(sys.path)"
   ]
  },
  {
   "cell_type": "code",
   "execution_count": null,
   "metadata": {},
   "outputs": [],
   "source": [
    "urls = get_urls(base_url=BASE_URL, pagination=2)\n",
    "titles, dates = scrape_iterate(urls)\n",
    "register_news(titles, dates, file_path=FILE_PATH)"
   ]
  }
 ],
 "metadata": {
  "kernelspec": {
   "display_name": "Python 3",
   "language": "python",
   "name": "python3"
  },
  "language_info": {
   "codemirror_mode": {
    "name": "ipython",
    "version": 3
   },
   "file_extension": ".py",
   "mimetype": "text/x-python",
   "name": "python",
   "nbconvert_exporter": "python",
   "pygments_lexer": "ipython3",
   "version": "3.8.5"
  }
 },
 "nbformat": 4,
 "nbformat_minor": 5
}
