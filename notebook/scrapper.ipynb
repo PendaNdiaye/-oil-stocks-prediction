{
 "cells": [
  {
   "cell_type": "code",
   "execution_count": 10,
   "metadata": {},
   "outputs": [],
   "source": [
    "from selenium import webdriver\n",
    "from chromedriver_py import binary_path # this will get you the path variable\n",
    "import os\n",
    "import pandas as pd\n",
    "\n",
    "REPO_DIR = os.path.dirname(os.path.abspath(''))\n",
    "BASE_URL = \"https://fr.investing.com/commodities/crude-oil-news\"\n",
    "DATA_DIR = os.path.join(REPO_DIR, \"data/\")\n",
    "\n",
    "FILE_PATH = os.path.join(DATA_DIR, \"articles/output.csv\")\n",
    "\n",
    "\n",
    "def load_configs():\n",
    "    #dotenv_path = os.path.join(env_file_location_dir, '.env')\n",
    "    #load_dotenv(dotenv_path)\n",
    "\n",
    "    #chrome_driver = os.environ.get(\"CHROME_DRIVER\")\n",
    "    #user_agent = os.environ.get(\"USER_AGENT\")\n",
    "    #return chrome_driver, user_agent\n",
    "    pass \n",
    "\n",
    "def get_driver():\n",
    "    #configs = load_configs()\n",
    "    #if isinstance(configs, tuple):\n",
    "        # local env dev\n",
    "    #chrome_driver_path, user_agent = configs\n",
    "    #print(chrome_driver_path)\n",
    "    driver = webdriver.Chrome(binary_path)\n",
    "    return driver\n",
    "\n",
    "def __get_titles(driver):\n",
    "        return [s.text for s in driver.find_elements_by_class_name(\"title\")][3:13]\n",
    "    \n",
    "def __get_dates(driver):\n",
    "        return [s.text for  s in driver.find_elements_by_xpath('.//span[@class = \"date\"]')]\n",
    "    \n",
    "def format_string(s):\n",
    "    return s.replace(' - ','')\n",
    "\n",
    "def format_date(dates):\n",
    "    return list(map(format_string, dates))\n",
    "\n",
    "def scrape(url):\n",
    "    #url = base_url + '/'+ str(page)\n",
    "    driver = get_driver()\n",
    "    driver.get(url)\n",
    "    titles = __get_titles(driver)\n",
    "    dates = __get_dates(driver)\n",
    "    dates = format_date(dates)\n",
    "    return titles, dates\n",
    "\n",
    "import os \n",
    "def get_urls(base_url, pagination):\n",
    "    #urls = [os.path.join(BASE_URL, str(page)) for page in range(1, pagination+1)]\n",
    "    urls = [base_url + '/' + str(page) for page in range(1, pagination+1)]\n",
    "    return urls\n",
    "\n",
    "def scrape_iterate(urls):\n",
    "    titles = []\n",
    "    dates = []\n",
    "    for url in urls:\n",
    "        current_titles, current_dates = scrape(url)\n",
    "        titles += current_titles\n",
    "        dates +=current_dates\n",
    "    return titles, dates  \n",
    "\n",
    "def register_news(titles, dates, file_path):\n",
    "    with open(file_path, \"w\") as csv_file:\n",
    "        for title, date in zip(titles, dates):\n",
    "            csv_file.write(title)\n",
    "            csv_file.write(\"|\")\n",
    "            csv_file.write(date)   \n",
    "            csv_file.write(\"\\n\")\n",
    "    return"
   ]
  },
  {
   "cell_type": "code",
   "execution_count": 11,
   "metadata": {},
   "outputs": [],
   "source": [
    "urls = get_urls(base_url=BASE_URL, pagination=2)"
   ]
  },
  {
   "cell_type": "code",
   "execution_count": 12,
   "metadata": {},
   "outputs": [
    {
     "data": {
      "text/plain": [
       "['https://fr.investing.com/commodities/crude-oil-news/1',\n",
       " 'https://fr.investing.com/commodities/crude-oil-news/2']"
      ]
     },
     "execution_count": 12,
     "metadata": {},
     "output_type": "execute_result"
    }
   ],
   "source": [
    "urls "
   ]
  },
  {
   "cell_type": "code",
   "execution_count": 13,
   "metadata": {},
   "outputs": [],
   "source": [
    "titles, dates = scrape_iterate(urls)"
   ]
  },
  {
   "cell_type": "code",
   "execution_count": 14,
   "metadata": {},
   "outputs": [],
   "source": [
    "register_news(titles, dates, file_path=FILE_PATH)"
   ]
  },
  {
   "cell_type": "code",
   "execution_count": null,
   "metadata": {},
   "outputs": [],
   "source": []
  }
 ],
 "metadata": {
  "kernelspec": {
   "display_name": "Python 3",
   "language": "python",
   "name": "python3"
  },
  "language_info": {
   "codemirror_mode": {
    "name": "ipython",
    "version": 3
   },
   "file_extension": ".py",
   "mimetype": "text/x-python",
   "name": "python",
   "nbconvert_exporter": "python",
   "pygments_lexer": "ipython3",
   "version": "3.8.8"
  }
 },
 "nbformat": 4,
 "nbformat_minor": 4
}
