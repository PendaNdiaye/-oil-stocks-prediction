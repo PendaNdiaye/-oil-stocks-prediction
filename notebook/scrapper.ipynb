{
 "cells": [
  {
   "cell_type": "code",
   "execution_count": 4,
   "metadata": {},
   "outputs": [],
   "source": [
    "from selenium import webdriver\n",
    "from chromedriver_py import binary_path # this will get you the path variable\n",
    "import os\n",
    "\n",
    "\n",
    "REPO_DIR = os.path.dirname(os.path.abspath(''))\n",
    "\n",
    "def load_configs():\n",
    "    #dotenv_path = os.path.join(env_file_location_dir, '.env')\n",
    "    #load_dotenv(dotenv_path)\n",
    "\n",
    "    #chrome_driver = os.environ.get(\"CHROME_DRIVER\")\n",
    "    #user_agent = os.environ.get(\"USER_AGENT\")\n",
    "    #return chrome_driver, user_agent\n",
    "    pass \n",
    "\n",
    "def get_driver():\n",
    "    #configs = load_configs()\n",
    "    #if isinstance(configs, tuple):\n",
    "        # local env dev\n",
    "    #chrome_driver_path, user_agent = configs\n",
    "    #print(chrome_driver_path)\n",
    "    driver = webdriver.Chrome(binary_path)\n",
    "    return driver"
   ]
  },
  {
   "cell_type": "code",
   "execution_count": 7,
   "metadata": {},
   "outputs": [],
   "source": [
    "url = 'https://fr.investing.com/commodities/crude-oil-news'\n",
    "driver = get_driver()\n",
    "driver.get(url)"
   ]
  },
  {
   "cell_type": "code",
   "execution_count": 22,
   "metadata": {},
   "outputs": [],
   "source": [
    "import pandas as pd"
   ]
  },
  {
   "cell_type": "code",
   "execution_count": 63,
   "metadata": {},
   "outputs": [],
   "source": [
    "def __get_titles(driver):\n",
    "        return [s.text for s in driver.find_elements_by_class_name(\"title\")][3:13]\n",
    "    \n",
    "def __get_dates(driver):\n",
    "        return [s.text for  s in driver.find_elements_by_xpath('.//span[@class = \"date\"]')]"
   ]
  },
  {
   "cell_type": "code",
   "execution_count": 64,
   "metadata": {},
   "outputs": [],
   "source": [
    "def format_string(s):\n",
    "    return s.replace(' - ','')"
   ]
  },
  {
   "cell_type": "code",
   "execution_count": 65,
   "metadata": {},
   "outputs": [
    {
     "data": {
      "text/plain": [
       "'17/09/2021'"
      ]
     },
     "execution_count": 65,
     "metadata": {},
     "output_type": "execute_result"
    }
   ],
   "source": [
    "format_string(' - 17/09/2021')"
   ]
  },
  {
   "cell_type": "code",
   "execution_count": null,
   "metadata": {},
   "outputs": [],
   "source": []
  },
  {
   "cell_type": "code",
   "execution_count": 36,
   "metadata": {},
   "outputs": [
    {
     "data": {
      "text/plain": [
       "' - 17/09/2021'"
      ]
     },
     "execution_count": 36,
     "metadata": {},
     "output_type": "execute_result"
    }
   ],
   "source": [
    "__get_dates(driver)"
   ]
  },
  {
   "cell_type": "code",
   "execution_count": 53,
   "metadata": {},
   "outputs": [],
   "source": [
    "def format_date(dates):\n",
    "    return list(map(format_string, dates))\n"
   ]
  },
  {
   "cell_type": "code",
   "execution_count": 54,
   "metadata": {},
   "outputs": [
    {
     "data": {
      "text/plain": [
       "['17/09/2021',\n",
       " '17/09/2021',\n",
       " '17/09/2021',\n",
       " '17/09/2021',\n",
       " '17/09/2021',\n",
       " '17/09/2021',\n",
       " '17/09/2021',\n",
       " '17/09/2021',\n",
       " '16/09/2021',\n",
       " '16/09/2021']"
      ]
     },
     "execution_count": 54,
     "metadata": {},
     "output_type": "execute_result"
    }
   ],
   "source": [
    "dates = __get_dates(driver)\n",
    "format_date(dates)"
   ]
  },
  {
   "cell_type": "code",
   "execution_count": 66,
   "metadata": {},
   "outputs": [],
   "source": [
    "def scrape(base_url, page):\n",
    "    url = base_url + '/'+ str(page)\n",
    "    driver = get_driver()\n",
    "    driver.get(url)\n",
    "    titles = __get_titles(driver)\n",
    "    dates = __get_dates(driver)\n",
    "    dates = format_date(dates)\n",
    "    return titles, dates\n",
    "    "
   ]
  },
  {
   "cell_type": "code",
   "execution_count": 67,
   "metadata": {},
   "outputs": [
    {
     "data": {
      "text/plain": [
       "([\"L'Europe soutenue par le transport aérien, la prudence domine à Wall Street\",\n",
       "  'Hésitation à Wall Street avant de nouveaux indicateurs, hausse en Europe',\n",
       "  'Morning Meeting Forex : Attentisme sur le dollar; EUR/NOK, la couronne norvégienne suit les cours du pétrole',\n",
       "  'Hausse en vue en Europe dans le sillage de Wall Street',\n",
       "  'Les contrats à terme sur Pétrole Brut ont augmenté durant la séance en Asie',\n",
       "  \"Wall Street clôture en hausse sur fond d'optimisme retrouvé\",\n",
       "  '3 Statistiques US importantes à surveiller ce Jeudi',\n",
       "  'Les contrats à terme sur Pétrole Brut ont augmenté durant la séance américaine',\n",
       "  'Les contrats à terme sur Gaz naturel ont augmenté durant la séance américaine',\n",
       "  \"L'Europe finit dans le rouge, plombée par des statistiques chinoises\"],\n",
       " ['16/09/2021',\n",
       "  '16/09/2021',\n",
       "  '16/09/2021',\n",
       "  '16/09/2021',\n",
       "  '16/09/2021',\n",
       "  '15/09/2021',\n",
       "  '15/09/2021',\n",
       "  '15/09/2021',\n",
       "  '15/09/2021',\n",
       "  '15/09/2021'])"
      ]
     },
     "execution_count": 67,
     "metadata": {},
     "output_type": "execute_result"
    }
   ],
   "source": [
    "scrape('https://fr.investing.com/commodities/crude-oil-news', 2)"
   ]
  },
  {
   "cell_type": "code",
   "execution_count": 79,
   "metadata": {},
   "outputs": [],
   "source": [
    "import csv\n",
    "data = [\"avis\",\"av\"]\n",
    "with open(r\"C:\\Users\\HP 1030 G2\\Desktop\\Cours DIT\\El Hadj\\oil-stocks-prediction\\data\\articles\\output.csv\", \"w\") as csv_file:\n",
    "    for line in data:\n",
    "        csv_file.write(line)"
   ]
  },
  {
   "cell_type": "code",
   "execution_count": null,
   "metadata": {},
   "outputs": [],
   "source": [
    "def register_news"
   ]
  }
 ],
 "metadata": {
  "kernelspec": {
   "display_name": "Python 3",
   "language": "python",
   "name": "python3"
  },
  "language_info": {
   "codemirror_mode": {
    "name": "ipython",
    "version": 3
   },
   "file_extension": ".py",
   "mimetype": "text/x-python",
   "name": "python",
   "nbconvert_exporter": "python",
   "pygments_lexer": "ipython3",
   "version": "3.8.5"
  }
 },
 "nbformat": 4,
 "nbformat_minor": 4
}
